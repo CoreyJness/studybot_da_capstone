{
 "cells": [
  {
   "cell_type": "markdown",
   "metadata": {},
   "source": [
    "Start by importing necessary modules and assigning the dataset to a DF."
   ]
  },
  {
   "cell_type": "code",
   "execution_count": 1,
   "metadata": {},
   "outputs": [],
   "source": [
    "import pandas as pd\n",
    "master_dataset = 'master_dataset.csv'\n",
    "df = pd.read_csv(master_dataset, skiprows=2976) ##2976 was an error in importing.\n"
   ]
  },
  {
   "cell_type": "code",
   "execution_count": 2,
   "metadata": {},
   "outputs": [
    {
     "data": {
      "text/html": [
       "<div>\n",
       "<style scoped>\n",
       "    .dataframe tbody tr th:only-of-type {\n",
       "        vertical-align: middle;\n",
       "    }\n",
       "\n",
       "    .dataframe tbody tr th {\n",
       "        vertical-align: top;\n",
       "    }\n",
       "\n",
       "    .dataframe thead th {\n",
       "        text-align: right;\n",
       "    }\n",
       "</style>\n",
       "<table border=\"1\" class=\"dataframe\">\n",
       "  <thead>\n",
       "    <tr style=\"text-align: right;\">\n",
       "      <th></th>\n",
       "      <th>0</th>\n",
       "      <th>0.0</th>\n",
       "      <th>3</th>\n",
       "      <th>ELA</th>\n",
       "      <th>Part A  What is the meaning of the word scattered as it is used in paragraphs 1 and 2?</th>\n",
       "      <th>Unnamed: 5</th>\n",
       "      <th>Unnamed: 6</th>\n",
       "    </tr>\n",
       "  </thead>\n",
       "  <tbody>\n",
       "    <tr>\n",
       "      <th>0</th>\n",
       "      <td>1.0</td>\n",
       "      <td>1.0</td>\n",
       "      <td>3</td>\n",
       "      <td>ELA</td>\n",
       "      <td>Neat  Unpacked   Thrown about   Leaking   Lum...</td>\n",
       "      <td>NaN</td>\n",
       "      <td>NaN</td>\n",
       "    </tr>\n",
       "    <tr>\n",
       "      <th>1</th>\n",
       "      <td>2.0</td>\n",
       "      <td>2.0</td>\n",
       "      <td>3</td>\n",
       "      <td>ELA</td>\n",
       "      <td>2 What is the meaning of the secret of Blue Ri...</td>\n",
       "      <td>NaN</td>\n",
       "      <td>NaN</td>\n",
       "    </tr>\n",
       "    <tr>\n",
       "      <th>2</th>\n",
       "      <td>3.0</td>\n",
       "      <td>3.0</td>\n",
       "      <td>3</td>\n",
       "      <td>ELA</td>\n",
       "      <td>What is summer?</td>\n",
       "      <td>NaN</td>\n",
       "      <td>NaN</td>\n",
       "    </tr>\n",
       "    <tr>\n",
       "      <th>3</th>\n",
       "      <td>4.0</td>\n",
       "      <td>4.0</td>\n",
       "      <td>3</td>\n",
       "      <td>ELA</td>\n",
       "      <td>Is it fresh cut green grass that tickles your ...</td>\n",
       "      <td>NaN</td>\n",
       "      <td>NaN</td>\n",
       "    </tr>\n",
       "    <tr>\n",
       "      <th>4</th>\n",
       "      <td>5.0</td>\n",
       "      <td>5.0</td>\n",
       "      <td>3</td>\n",
       "      <td>ELA</td>\n",
       "      <td>Is it hours in the pool that wrinkles your hands?</td>\n",
       "      <td>NaN</td>\n",
       "      <td>NaN</td>\n",
       "    </tr>\n",
       "    <tr>\n",
       "      <th>...</th>\n",
       "      <td>...</td>\n",
       "      <td>...</td>\n",
       "      <td>...</td>\n",
       "      <td>...</td>\n",
       "      <td>...</td>\n",
       "      <td>...</td>\n",
       "      <td>...</td>\n",
       "    </tr>\n",
       "    <tr>\n",
       "      <th>72506</th>\n",
       "      <td>3457.0</td>\n",
       "      <td>NaN</td>\n",
       "      <td>8</td>\n",
       "      <td>Math</td>\n",
       "      <td>Income more than that is:  I &gt; 2000x + 24000  ...</td>\n",
       "      <td>NaN</td>\n",
       "      <td>NaN</td>\n",
       "    </tr>\n",
       "    <tr>\n",
       "      <th>72507</th>\n",
       "      <td>3458.0</td>\n",
       "      <td>NaN</td>\n",
       "      <td>8</td>\n",
       "      <td>Math</td>\n",
       "      <td>Use Pythagorean Theorem: a?</td>\n",
       "      <td>NaN</td>\n",
       "      <td>NaN</td>\n",
       "    </tr>\n",
       "    <tr>\n",
       "      <th>72508</th>\n",
       "      <td>3459.0</td>\n",
       "      <td>NaN</td>\n",
       "      <td>8</td>\n",
       "      <td>Math</td>\n",
       "      <td>+ b* = c?</td>\n",
       "      <td>NaN</td>\n",
       "      <td>NaN</td>\n",
       "    </tr>\n",
       "    <tr>\n",
       "      <th>72509</th>\n",
       "      <td>3460.0</td>\n",
       "      <td>NaN</td>\n",
       "      <td>8</td>\n",
       "      <td>Math</td>\n",
       "      <td>40 miles  See a Ot O00, = Co = 2500 =u = oo = ...</td>\n",
       "      <td>NaN</td>\n",
       "      <td>NaN</td>\n",
       "    </tr>\n",
       "    <tr>\n",
       "      <th>72510</th>\n",
       "      <td>3461.0</td>\n",
       "      <td>NaN</td>\n",
       "      <td>8</td>\n",
       "      <td>Math</td>\n",
       "      <td>¥v Mathematics Worksheets  Y Online Math Tutor...</td>\n",
       "      <td>NaN</td>\n",
       "      <td>NaN</td>\n",
       "    </tr>\n",
       "  </tbody>\n",
       "</table>\n",
       "<p>72511 rows × 7 columns</p>\n",
       "</div>"
      ],
      "text/plain": [
       "            0  0.0  3   ELA  \\\n",
       "0         1.0  1.0  3   ELA   \n",
       "1         2.0  2.0  3   ELA   \n",
       "2         3.0  3.0  3   ELA   \n",
       "3         4.0  4.0  3   ELA   \n",
       "4         5.0  5.0  3   ELA   \n",
       "...       ...  ... ..   ...   \n",
       "72506  3457.0  NaN  8  Math   \n",
       "72507  3458.0  NaN  8  Math   \n",
       "72508  3459.0  NaN  8  Math   \n",
       "72509  3460.0  NaN  8  Math   \n",
       "72510  3461.0  NaN  8  Math   \n",
       "\n",
       "      Part A  What is the meaning of the word scattered as it is used in paragraphs 1 and 2?  \\\n",
       "0       Neat  Unpacked   Thrown about   Leaking   Lum...                                       \n",
       "1      2 What is the meaning of the secret of Blue Ri...                                       \n",
       "2                                        What is summer?                                       \n",
       "3      Is it fresh cut green grass that tickles your ...                                       \n",
       "4      Is it hours in the pool that wrinkles your hands?                                       \n",
       "...                                                  ...                                       \n",
       "72506  Income more than that is:  I > 2000x + 24000  ...                                       \n",
       "72507                        Use Pythagorean Theorem: a?                                       \n",
       "72508                                          + b* = c?                                       \n",
       "72509  40 miles  See a Ot O00, = Co = 2500 =u = oo = ...                                       \n",
       "72510  ¥v Mathematics Worksheets  Y Online Math Tutor...                                       \n",
       "\n",
       "      Unnamed: 5 Unnamed: 6  \n",
       "0            NaN        NaN  \n",
       "1            NaN        NaN  \n",
       "2            NaN        NaN  \n",
       "3            NaN        NaN  \n",
       "4            NaN        NaN  \n",
       "...          ...        ...  \n",
       "72506        NaN        NaN  \n",
       "72507        NaN        NaN  \n",
       "72508        NaN        NaN  \n",
       "72509        NaN        NaN  \n",
       "72510        NaN        NaN  \n",
       "\n",
       "[72511 rows x 7 columns]"
      ]
     },
     "execution_count": 2,
     "metadata": {},
     "output_type": "execute_result"
    }
   ],
   "source": [
    "df"
   ]
  },
  {
   "cell_type": "code",
   "execution_count": 3,
   "metadata": {},
   "outputs": [
    {
     "data": {
      "text/plain": [
       "Index(['0', '0.0', '3', 'ELA',\n",
       "       'Part A  What is the meaning of the word scattered as it is used in paragraphs 1 and 2?',\n",
       "       'Unnamed: 5', 'Unnamed: 6'],\n",
       "      dtype='object')"
      ]
     },
     "execution_count": 3,
     "metadata": {},
     "output_type": "execute_result"
    }
   ],
   "source": [
    "df.columns"
   ]
  },
  {
   "cell_type": "code",
   "execution_count": 4,
   "metadata": {},
   "outputs": [],
   "source": [
    "df.rename(columns={\"Part A  What is the meaning of the word scattered as it is used in paragraphs 1 and 2?\": \"Question\", \n",
    "                   \"3\": \"Grade\", \n",
    "                   \"ELA\": \"Subject\"}, inplace=True)\n"
   ]
  },
  {
   "cell_type": "markdown",
   "metadata": {},
   "source": [
    "This function asseses each row, excluding Grade and Subject, and then merges them.  "
   ]
  },
  {
   "cell_type": "code",
   "execution_count": 5,
   "metadata": {},
   "outputs": [],
   "source": [
    "df['Question'] = df.apply(lambda row: ' '.join(row.drop(['Grade', 'Subject']).astype(str)), axis=1)"
   ]
  },
  {
   "cell_type": "code",
   "execution_count": 6,
   "metadata": {},
   "outputs": [
    {
     "data": {
      "text/html": [
       "<div>\n",
       "<style scoped>\n",
       "    .dataframe tbody tr th:only-of-type {\n",
       "        vertical-align: middle;\n",
       "    }\n",
       "\n",
       "    .dataframe tbody tr th {\n",
       "        vertical-align: top;\n",
       "    }\n",
       "\n",
       "    .dataframe thead th {\n",
       "        text-align: right;\n",
       "    }\n",
       "</style>\n",
       "<table border=\"1\" class=\"dataframe\">\n",
       "  <thead>\n",
       "    <tr style=\"text-align: right;\">\n",
       "      <th></th>\n",
       "      <th>0</th>\n",
       "      <th>0.0</th>\n",
       "      <th>Grade</th>\n",
       "      <th>Subject</th>\n",
       "      <th>Question</th>\n",
       "      <th>Unnamed: 5</th>\n",
       "      <th>Unnamed: 6</th>\n",
       "    </tr>\n",
       "  </thead>\n",
       "  <tbody>\n",
       "    <tr>\n",
       "      <th>0</th>\n",
       "      <td>1.0</td>\n",
       "      <td>1.0</td>\n",
       "      <td>3</td>\n",
       "      <td>ELA</td>\n",
       "      <td>1.0 1.0  Neat  Unpacked   Thrown about   Leaki...</td>\n",
       "      <td>NaN</td>\n",
       "      <td>NaN</td>\n",
       "    </tr>\n",
       "    <tr>\n",
       "      <th>1</th>\n",
       "      <td>2.0</td>\n",
       "      <td>2.0</td>\n",
       "      <td>3</td>\n",
       "      <td>ELA</td>\n",
       "      <td>2.0 2.0 2 What is the meaning of the secret of...</td>\n",
       "      <td>NaN</td>\n",
       "      <td>NaN</td>\n",
       "    </tr>\n",
       "    <tr>\n",
       "      <th>2</th>\n",
       "      <td>3.0</td>\n",
       "      <td>3.0</td>\n",
       "      <td>3</td>\n",
       "      <td>ELA</td>\n",
       "      <td>3.0 3.0 What is summer? nan nan</td>\n",
       "      <td>NaN</td>\n",
       "      <td>NaN</td>\n",
       "    </tr>\n",
       "    <tr>\n",
       "      <th>3</th>\n",
       "      <td>4.0</td>\n",
       "      <td>4.0</td>\n",
       "      <td>3</td>\n",
       "      <td>ELA</td>\n",
       "      <td>4.0 4.0 Is it fresh cut green grass that tickl...</td>\n",
       "      <td>NaN</td>\n",
       "      <td>NaN</td>\n",
       "    </tr>\n",
       "    <tr>\n",
       "      <th>4</th>\n",
       "      <td>5.0</td>\n",
       "      <td>5.0</td>\n",
       "      <td>3</td>\n",
       "      <td>ELA</td>\n",
       "      <td>5.0 5.0 Is it hours in the pool that wrinkles ...</td>\n",
       "      <td>NaN</td>\n",
       "      <td>NaN</td>\n",
       "    </tr>\n",
       "    <tr>\n",
       "      <th>...</th>\n",
       "      <td>...</td>\n",
       "      <td>...</td>\n",
       "      <td>...</td>\n",
       "      <td>...</td>\n",
       "      <td>...</td>\n",
       "      <td>...</td>\n",
       "      <td>...</td>\n",
       "    </tr>\n",
       "    <tr>\n",
       "      <th>72506</th>\n",
       "      <td>3457.0</td>\n",
       "      <td>NaN</td>\n",
       "      <td>8</td>\n",
       "      <td>Math</td>\n",
       "      <td>3457.0 nan Income more than that is:  I &gt; 2000...</td>\n",
       "      <td>NaN</td>\n",
       "      <td>NaN</td>\n",
       "    </tr>\n",
       "    <tr>\n",
       "      <th>72507</th>\n",
       "      <td>3458.0</td>\n",
       "      <td>NaN</td>\n",
       "      <td>8</td>\n",
       "      <td>Math</td>\n",
       "      <td>3458.0 nan Use Pythagorean Theorem: a? nan nan</td>\n",
       "      <td>NaN</td>\n",
       "      <td>NaN</td>\n",
       "    </tr>\n",
       "    <tr>\n",
       "      <th>72508</th>\n",
       "      <td>3459.0</td>\n",
       "      <td>NaN</td>\n",
       "      <td>8</td>\n",
       "      <td>Math</td>\n",
       "      <td>3459.0 nan + b* = c? nan nan</td>\n",
       "      <td>NaN</td>\n",
       "      <td>NaN</td>\n",
       "    </tr>\n",
       "    <tr>\n",
       "      <th>72509</th>\n",
       "      <td>3460.0</td>\n",
       "      <td>NaN</td>\n",
       "      <td>8</td>\n",
       "      <td>Math</td>\n",
       "      <td>3460.0 nan 40 miles  See a Ot O00, = Co = 2500...</td>\n",
       "      <td>NaN</td>\n",
       "      <td>NaN</td>\n",
       "    </tr>\n",
       "    <tr>\n",
       "      <th>72510</th>\n",
       "      <td>3461.0</td>\n",
       "      <td>NaN</td>\n",
       "      <td>8</td>\n",
       "      <td>Math</td>\n",
       "      <td>3461.0 nan ¥v Mathematics Worksheets  Y Online...</td>\n",
       "      <td>NaN</td>\n",
       "      <td>NaN</td>\n",
       "    </tr>\n",
       "  </tbody>\n",
       "</table>\n",
       "<p>72511 rows × 7 columns</p>\n",
       "</div>"
      ],
      "text/plain": [
       "            0  0.0 Grade Subject  \\\n",
       "0         1.0  1.0     3     ELA   \n",
       "1         2.0  2.0     3     ELA   \n",
       "2         3.0  3.0     3     ELA   \n",
       "3         4.0  4.0     3     ELA   \n",
       "4         5.0  5.0     3     ELA   \n",
       "...       ...  ...   ...     ...   \n",
       "72506  3457.0  NaN     8    Math   \n",
       "72507  3458.0  NaN     8    Math   \n",
       "72508  3459.0  NaN     8    Math   \n",
       "72509  3460.0  NaN     8    Math   \n",
       "72510  3461.0  NaN     8    Math   \n",
       "\n",
       "                                                Question Unnamed: 5 Unnamed: 6  \n",
       "0      1.0 1.0  Neat  Unpacked   Thrown about   Leaki...        NaN        NaN  \n",
       "1      2.0 2.0 2 What is the meaning of the secret of...        NaN        NaN  \n",
       "2                        3.0 3.0 What is summer? nan nan        NaN        NaN  \n",
       "3      4.0 4.0 Is it fresh cut green grass that tickl...        NaN        NaN  \n",
       "4      5.0 5.0 Is it hours in the pool that wrinkles ...        NaN        NaN  \n",
       "...                                                  ...        ...        ...  \n",
       "72506  3457.0 nan Income more than that is:  I > 2000...        NaN        NaN  \n",
       "72507     3458.0 nan Use Pythagorean Theorem: a? nan nan        NaN        NaN  \n",
       "72508                       3459.0 nan + b* = c? nan nan        NaN        NaN  \n",
       "72509  3460.0 nan 40 miles  See a Ot O00, = Co = 2500...        NaN        NaN  \n",
       "72510  3461.0 nan ¥v Mathematics Worksheets  Y Online...        NaN        NaN  \n",
       "\n",
       "[72511 rows x 7 columns]"
      ]
     },
     "execution_count": 6,
     "metadata": {},
     "output_type": "execute_result"
    }
   ],
   "source": [
    "df"
   ]
  },
  {
   "cell_type": "markdown",
   "metadata": {},
   "source": [
    "Now lets drop all the other columns:"
   ]
  },
  {
   "cell_type": "code",
   "execution_count": 7,
   "metadata": {},
   "outputs": [],
   "source": [
    "df = df [['Grade', 'Subject', 'Question']]"
   ]
  },
  {
   "cell_type": "code",
   "execution_count": 8,
   "metadata": {},
   "outputs": [
    {
     "data": {
      "text/plain": [
       "np.False_"
      ]
     },
     "execution_count": 8,
     "metadata": {},
     "output_type": "execute_result"
    }
   ],
   "source": [
    "df['Grade'].isnull().values.any()"
   ]
  },
  {
   "cell_type": "code",
   "execution_count": 9,
   "metadata": {},
   "outputs": [
    {
     "data": {
      "text/plain": [
       "np.True_"
      ]
     },
     "execution_count": 9,
     "metadata": {},
     "output_type": "execute_result"
    }
   ],
   "source": [
    "df['Subject'].isnull().values.any()"
   ]
  },
  {
   "cell_type": "code",
   "execution_count": 10,
   "metadata": {},
   "outputs": [
    {
     "data": {
      "text/plain": [
       "array([False, False, False, ..., False, False, False])"
      ]
     },
     "execution_count": 10,
     "metadata": {},
     "output_type": "execute_result"
    }
   ],
   "source": [
    "df['Subject'].isnull().values"
   ]
  },
  {
   "cell_type": "code",
   "execution_count": 11,
   "metadata": {},
   "outputs": [
    {
     "name": "stdout",
     "output_type": "stream",
     "text": [
      "Grade           0\n",
      "Subject     51433\n",
      "Question        0\n",
      "dtype: int64\n"
     ]
    }
   ],
   "source": [
    "print(df.isnull().sum())\n"
   ]
  },
  {
   "cell_type": "markdown",
   "metadata": {},
   "source": [
    "I assume these are the science questions, and as subject labels arent as important, I will fill nulls with SCIENCE."
   ]
  },
  {
   "cell_type": "code",
   "execution_count": 12,
   "metadata": {},
   "outputs": [],
   "source": [
    "df = df.fillna(\"science\")\n"
   ]
  },
  {
   "cell_type": "markdown",
   "metadata": {},
   "source": [
    "Excellent.  Export the clean dataset into a new file for use.  Reset the index"
   ]
  },
  {
   "cell_type": "code",
   "execution_count": 13,
   "metadata": {},
   "outputs": [],
   "source": [
    "df.reset_index(drop=True, inplace=True)"
   ]
  },
  {
   "cell_type": "code",
   "execution_count": 14,
   "metadata": {},
   "outputs": [
    {
     "data": {
      "text/html": [
       "<div>\n",
       "<style scoped>\n",
       "    .dataframe tbody tr th:only-of-type {\n",
       "        vertical-align: middle;\n",
       "    }\n",
       "\n",
       "    .dataframe tbody tr th {\n",
       "        vertical-align: top;\n",
       "    }\n",
       "\n",
       "    .dataframe thead th {\n",
       "        text-align: right;\n",
       "    }\n",
       "</style>\n",
       "<table border=\"1\" class=\"dataframe\">\n",
       "  <thead>\n",
       "    <tr style=\"text-align: right;\">\n",
       "      <th></th>\n",
       "      <th>Grade</th>\n",
       "      <th>Subject</th>\n",
       "      <th>Question</th>\n",
       "    </tr>\n",
       "  </thead>\n",
       "  <tbody>\n",
       "    <tr>\n",
       "      <th>0</th>\n",
       "      <td>3</td>\n",
       "      <td>ELA</td>\n",
       "      <td>1.0 1.0  Neat  Unpacked   Thrown about   Leaki...</td>\n",
       "    </tr>\n",
       "    <tr>\n",
       "      <th>1</th>\n",
       "      <td>3</td>\n",
       "      <td>ELA</td>\n",
       "      <td>2.0 2.0 2 What is the meaning of the secret of...</td>\n",
       "    </tr>\n",
       "    <tr>\n",
       "      <th>2</th>\n",
       "      <td>3</td>\n",
       "      <td>ELA</td>\n",
       "      <td>3.0 3.0 What is summer? nan nan</td>\n",
       "    </tr>\n",
       "    <tr>\n",
       "      <th>3</th>\n",
       "      <td>3</td>\n",
       "      <td>ELA</td>\n",
       "      <td>4.0 4.0 Is it fresh cut green grass that tickl...</td>\n",
       "    </tr>\n",
       "    <tr>\n",
       "      <th>4</th>\n",
       "      <td>3</td>\n",
       "      <td>ELA</td>\n",
       "      <td>5.0 5.0 Is it hours in the pool that wrinkles ...</td>\n",
       "    </tr>\n",
       "    <tr>\n",
       "      <th>...</th>\n",
       "      <td>...</td>\n",
       "      <td>...</td>\n",
       "      <td>...</td>\n",
       "    </tr>\n",
       "    <tr>\n",
       "      <th>72506</th>\n",
       "      <td>8</td>\n",
       "      <td>Math</td>\n",
       "      <td>3457.0 nan Income more than that is:  I &gt; 2000...</td>\n",
       "    </tr>\n",
       "    <tr>\n",
       "      <th>72507</th>\n",
       "      <td>8</td>\n",
       "      <td>Math</td>\n",
       "      <td>3458.0 nan Use Pythagorean Theorem: a? nan nan</td>\n",
       "    </tr>\n",
       "    <tr>\n",
       "      <th>72508</th>\n",
       "      <td>8</td>\n",
       "      <td>Math</td>\n",
       "      <td>3459.0 nan + b* = c? nan nan</td>\n",
       "    </tr>\n",
       "    <tr>\n",
       "      <th>72509</th>\n",
       "      <td>8</td>\n",
       "      <td>Math</td>\n",
       "      <td>3460.0 nan 40 miles  See a Ot O00, = Co = 2500...</td>\n",
       "    </tr>\n",
       "    <tr>\n",
       "      <th>72510</th>\n",
       "      <td>8</td>\n",
       "      <td>Math</td>\n",
       "      <td>3461.0 nan ¥v Mathematics Worksheets  Y Online...</td>\n",
       "    </tr>\n",
       "  </tbody>\n",
       "</table>\n",
       "<p>72511 rows × 3 columns</p>\n",
       "</div>"
      ],
      "text/plain": [
       "      Grade Subject                                           Question\n",
       "0         3     ELA  1.0 1.0  Neat  Unpacked   Thrown about   Leaki...\n",
       "1         3     ELA  2.0 2.0 2 What is the meaning of the secret of...\n",
       "2         3     ELA                    3.0 3.0 What is summer? nan nan\n",
       "3         3     ELA  4.0 4.0 Is it fresh cut green grass that tickl...\n",
       "4         3     ELA  5.0 5.0 Is it hours in the pool that wrinkles ...\n",
       "...     ...     ...                                                ...\n",
       "72506     8    Math  3457.0 nan Income more than that is:  I > 2000...\n",
       "72507     8    Math     3458.0 nan Use Pythagorean Theorem: a? nan nan\n",
       "72508     8    Math                       3459.0 nan + b* = c? nan nan\n",
       "72509     8    Math  3460.0 nan 40 miles  See a Ot O00, = Co = 2500...\n",
       "72510     8    Math  3461.0 nan ¥v Mathematics Worksheets  Y Online...\n",
       "\n",
       "[72511 rows x 3 columns]"
      ]
     },
     "execution_count": 14,
     "metadata": {},
     "output_type": "execute_result"
    }
   ],
   "source": [
    "df"
   ]
  },
  {
   "cell_type": "code",
   "execution_count": 15,
   "metadata": {},
   "outputs": [],
   "source": [
    "# Remove all leading numbers, dots, and spaces\n",
    "df['Question'] = df['Question'].astype(str).str.replace(r'^\\s*\\d*\\.?\\d*\\s*', '', regex=True)\n",
    "\n",
    "# Remove \"nan\" if it appears at the start or end\n",
    "df['Question'] = df['Question'].str.replace(r'^\\s*nan\\s*|\\s*nan\\s*$', '', regex=True)\n",
    "\n",
    "# Strip any remaining whitespace\n",
    "df['Question'] = df['Question'].str.strip()\n",
    "\n"
   ]
  },
  {
   "cell_type": "code",
   "execution_count": 16,
   "metadata": {},
   "outputs": [],
   "source": [
    "QxGrade_Dataset = df"
   ]
  },
  {
   "cell_type": "code",
   "execution_count": 17,
   "metadata": {},
   "outputs": [
    {
     "data": {
      "text/html": [
       "<div>\n",
       "<style scoped>\n",
       "    .dataframe tbody tr th:only-of-type {\n",
       "        vertical-align: middle;\n",
       "    }\n",
       "\n",
       "    .dataframe tbody tr th {\n",
       "        vertical-align: top;\n",
       "    }\n",
       "\n",
       "    .dataframe thead th {\n",
       "        text-align: right;\n",
       "    }\n",
       "</style>\n",
       "<table border=\"1\" class=\"dataframe\">\n",
       "  <thead>\n",
       "    <tr style=\"text-align: right;\">\n",
       "      <th></th>\n",
       "      <th>Grade</th>\n",
       "      <th>Subject</th>\n",
       "      <th>Question</th>\n",
       "    </tr>\n",
       "  </thead>\n",
       "  <tbody>\n",
       "    <tr>\n",
       "      <th>0</th>\n",
       "      <td>3</td>\n",
       "      <td>ELA</td>\n",
       "      <td>1.0  Neat  Unpacked   Thrown about   Leaking  ...</td>\n",
       "    </tr>\n",
       "    <tr>\n",
       "      <th>1</th>\n",
       "      <td>3</td>\n",
       "      <td>ELA</td>\n",
       "      <td>2.0 2 What is the meaning of the secret of Blu...</td>\n",
       "    </tr>\n",
       "    <tr>\n",
       "      <th>2</th>\n",
       "      <td>3</td>\n",
       "      <td>ELA</td>\n",
       "      <td>3.0 What is summer? nan</td>\n",
       "    </tr>\n",
       "    <tr>\n",
       "      <th>3</th>\n",
       "      <td>3</td>\n",
       "      <td>ELA</td>\n",
       "      <td>4.0 Is it fresh cut green grass that tickles y...</td>\n",
       "    </tr>\n",
       "    <tr>\n",
       "      <th>4</th>\n",
       "      <td>3</td>\n",
       "      <td>ELA</td>\n",
       "      <td>5.0 Is it hours in the pool that wrinkles your...</td>\n",
       "    </tr>\n",
       "    <tr>\n",
       "      <th>...</th>\n",
       "      <td>...</td>\n",
       "      <td>...</td>\n",
       "      <td>...</td>\n",
       "    </tr>\n",
       "    <tr>\n",
       "      <th>72506</th>\n",
       "      <td>8</td>\n",
       "      <td>Math</td>\n",
       "      <td>Income more than that is:  I &gt; 2000x + 24000  ...</td>\n",
       "    </tr>\n",
       "    <tr>\n",
       "      <th>72507</th>\n",
       "      <td>8</td>\n",
       "      <td>Math</td>\n",
       "      <td>Use Pythagorean Theorem: a? nan</td>\n",
       "    </tr>\n",
       "    <tr>\n",
       "      <th>72508</th>\n",
       "      <td>8</td>\n",
       "      <td>Math</td>\n",
       "      <td>+ b* = c? nan</td>\n",
       "    </tr>\n",
       "    <tr>\n",
       "      <th>72509</th>\n",
       "      <td>8</td>\n",
       "      <td>Math</td>\n",
       "      <td>40 miles  See a Ot O00, = Co = 2500 =u = oo = ...</td>\n",
       "    </tr>\n",
       "    <tr>\n",
       "      <th>72510</th>\n",
       "      <td>8</td>\n",
       "      <td>Math</td>\n",
       "      <td>¥v Mathematics Worksheets  Y Online Math Tutor...</td>\n",
       "    </tr>\n",
       "  </tbody>\n",
       "</table>\n",
       "<p>72511 rows × 3 columns</p>\n",
       "</div>"
      ],
      "text/plain": [
       "      Grade Subject                                           Question\n",
       "0         3     ELA  1.0  Neat  Unpacked   Thrown about   Leaking  ...\n",
       "1         3     ELA  2.0 2 What is the meaning of the secret of Blu...\n",
       "2         3     ELA                            3.0 What is summer? nan\n",
       "3         3     ELA  4.0 Is it fresh cut green grass that tickles y...\n",
       "4         3     ELA  5.0 Is it hours in the pool that wrinkles your...\n",
       "...     ...     ...                                                ...\n",
       "72506     8    Math  Income more than that is:  I > 2000x + 24000  ...\n",
       "72507     8    Math                    Use Pythagorean Theorem: a? nan\n",
       "72508     8    Math                                      + b* = c? nan\n",
       "72509     8    Math  40 miles  See a Ot O00, = Co = 2500 =u = oo = ...\n",
       "72510     8    Math  ¥v Mathematics Worksheets  Y Online Math Tutor...\n",
       "\n",
       "[72511 rows x 3 columns]"
      ]
     },
     "execution_count": 17,
     "metadata": {},
     "output_type": "execute_result"
    }
   ],
   "source": [
    "QxGrade_Dataset"
   ]
  },
  {
   "cell_type": "code",
   "execution_count": 19,
   "metadata": {},
   "outputs": [],
   "source": [
    "QxGrade_Dataset.to_csv('QxGrade_Dataset.csv', mode=\"a\")"
   ]
  }
 ],
 "metadata": {
  "kernelspec": {
   "display_name": ".venv",
   "language": "python",
   "name": "python3"
  },
  "language_info": {
   "codemirror_mode": {
    "name": "ipython",
    "version": 3
   },
   "file_extension": ".py",
   "mimetype": "text/x-python",
   "name": "python",
   "nbconvert_exporter": "python",
   "pygments_lexer": "ipython3",
   "version": "3.11.9"
  }
 },
 "nbformat": 4,
 "nbformat_minor": 2
}
