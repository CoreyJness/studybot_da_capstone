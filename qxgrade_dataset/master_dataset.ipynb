{
 "cells": [
  {
   "cell_type": "markdown",
   "metadata": {},
   "source": [
    "Import Pandas and read in the questions we previously saved:"
   ]
  },
  {
   "cell_type": "code",
   "execution_count": 1,
   "metadata": {},
   "outputs": [],
   "source": [
    "import pandas as pd\n",
    "#ela3 = pd.read_csv('ela3_dataset.csv')\n",
    "#mscience = pd.read_csv('mscience_dataset.csv')\n",
    "#ela4_dataset = pd.read_csv('ela4_dataset.csv')  \n",
    "#ela5_dataset = pd.read_csv('ela5_dataset.csv')\n",
    "#ela6_dataset= pd.read_csv('ela6_dataset.csv')\n",
    "#ela7_dataset= pd.read_csv('ela7_dataset.csv')\n",
    "#ela8_dataset= pd.read_csv('ela8_dataset.csv')\n",
    "#ela9_dataset= pd.read_csv('ela9_dataset.csv')\n",
    "#ela10_dataset= pd.read_csv('ela10_dataset.csv')\n",
    "#ela11_dataset= pd.read_csv('ela11_dataset.csv')\n",
    "#ela12_dataset= pd.read_csv('ela12_dataset.csv')\n",
    "#math3_dataset = pd.read_csv('math3_dataset.csv')\n",
    "#math4_dataset = pd.read_csv('math4_dataset.csv')\n",
    "#math5_dataset = pd.read_csv('math5_dataset.csv')\n",
    "#math6_dataset = pd.read_csv('math6_dataset.csv')\n",
    "#math7_dataset = pd.read_csv('math7_dataset.csv')\n",
    "#math8_dataset = pd.read_csv('math8_dataset.csv')\n",
    "math9_dataset = pd.read_csv('math8_dataset.csv')\n",
    "math10_dataset = pd.read_csv('math8_dataset.csv')\n",
    "math11_dataset = pd.read_csv('math8_dataset.csv')"
   ]
  },
  {
   "cell_type": "markdown",
   "metadata": {},
   "source": [
    "\n",
    "Merge ELA3 and Mscience"
   ]
  },
  {
   "cell_type": "code",
   "execution_count": 2,
   "metadata": {},
   "outputs": [],
   "source": [
    "#master_dataset = pd.concat([master_dataset, ela5_dataset], ignore_index=True) "
   ]
  },
  {
   "cell_type": "code",
   "execution_count": 3,
   "metadata": {},
   "outputs": [],
   "source": [
    "#master_dataset = pd.concat([ela3, mscience], ignore_index=True)\n"
   ]
  },
  {
   "cell_type": "code",
   "execution_count": 4,
   "metadata": {},
   "outputs": [],
   "source": [
    "\n",
    "#master_dataset.fillna(\"Science\")"
   ]
  },
  {
   "cell_type": "code",
   "execution_count": 5,
   "metadata": {},
   "outputs": [],
   "source": [
    "#master_dataset.to_csv('master_dataset.csv', mode=\"a\")"
   ]
  },
  {
   "cell_type": "markdown",
   "metadata": {},
   "source": [
    "Merge ela4 now:"
   ]
  },
  {
   "cell_type": "code",
   "execution_count": 6,
   "metadata": {},
   "outputs": [],
   "source": [
    "#master_dataset = pd.read_csv('master_dataset.csv')"
   ]
  },
  {
   "cell_type": "code",
   "execution_count": 7,
   "metadata": {},
   "outputs": [],
   "source": [
    "#master_dataset = pd.concat([master_dataset, ela4_dataset], ignore_index=True) "
   ]
  },
  {
   "cell_type": "code",
   "execution_count": 8,
   "metadata": {},
   "outputs": [],
   "source": [
    "#master_dataset.to_csv('master_dataset.csv', mode=\"a\")"
   ]
  },
  {
   "cell_type": "markdown",
   "metadata": {},
   "source": [
    "Merge ela5:"
   ]
  },
  {
   "cell_type": "code",
   "execution_count": 9,
   "metadata": {},
   "outputs": [],
   "source": [
    "#master_dataset = pd.read_csv('master_dataset.csv', on_bad_lines=\"skip\")"
   ]
  },
  {
   "cell_type": "code",
   "execution_count": 10,
   "metadata": {},
   "outputs": [],
   "source": [
    "#master_dataset = pd.concat([master_dataset, ela5_dataset], ignore_index=True) "
   ]
  },
  {
   "cell_type": "code",
   "execution_count": 11,
   "metadata": {},
   "outputs": [],
   "source": [
    "#master_dataset.to_csv('master_dataset.csv', mode=\"a\")"
   ]
  },
  {
   "cell_type": "markdown",
   "metadata": {},
   "source": [
    "Merge ela6:"
   ]
  },
  {
   "cell_type": "code",
   "execution_count": 12,
   "metadata": {},
   "outputs": [],
   "source": [
    "#master_dataset = pd.read_csv('master_dataset.csv', on_bad_lines=\"skip\")"
   ]
  },
  {
   "cell_type": "code",
   "execution_count": 13,
   "metadata": {},
   "outputs": [],
   "source": [
    "#master_dataset = pd.concat([master_dataset, ela6_dataset], ignore_index=True) "
   ]
  },
  {
   "cell_type": "code",
   "execution_count": 14,
   "metadata": {},
   "outputs": [],
   "source": [
    "#master_dataset.to_csv('master_dataset.csv', mode=\"a\")"
   ]
  },
  {
   "cell_type": "code",
   "execution_count": 15,
   "metadata": {},
   "outputs": [],
   "source": [
    "#master_dataset = pd.read_csv('master_dataset.csv', on_bad_lines=\"skip\")\n",
    "#master_dataset = pd.concat([master_dataset, ela7_dataset], ignore_index=True) \n",
    "#master_dataset.to_csv('master_dataset.csv', mode=\"a\")"
   ]
  },
  {
   "cell_type": "markdown",
   "metadata": {},
   "source": [
    "Merge ela8:"
   ]
  },
  {
   "cell_type": "code",
   "execution_count": 16,
   "metadata": {},
   "outputs": [],
   "source": [
    "#master_dataset = pd.read_csv('master_dataset.csv', on_bad_lines=\"skip\")\n",
    "#master_dataset = pd.concat([master_dataset, ela8_dataset], ignore_index=True) \n",
    "#master_dataset.to_csv('master_dataset.csv', mode=\"a\")"
   ]
  },
  {
   "cell_type": "markdown",
   "metadata": {},
   "source": [
    "Merge ela9:"
   ]
  },
  {
   "cell_type": "code",
   "execution_count": 17,
   "metadata": {},
   "outputs": [],
   "source": [
    "#master_dataset = pd.read_csv('master_dataset.csv', on_bad_lines=\"skip\")\n",
    "#master_dataset = pd.concat([master_dataset, ela9_dataset], ignore_index=True) \n",
    "#master_dataset.to_csv('master_dataset.csv', mode=\"a\")"
   ]
  },
  {
   "cell_type": "markdown",
   "metadata": {},
   "source": [
    "Merge ela10:"
   ]
  },
  {
   "cell_type": "code",
   "execution_count": 18,
   "metadata": {},
   "outputs": [],
   "source": [
    "#master_dataset = pd.read_csv('master_dataset.csv', on_bad_lines=\"skip\")\n",
    "#master_dataset = pd.concat([master_dataset, ela10_dataset], ignore_index=True) \n",
    "#master_dataset.to_csv('master_dataset.csv', mode=\"a\")"
   ]
  },
  {
   "cell_type": "markdown",
   "metadata": {},
   "source": [
    "Merge ela 11:"
   ]
  },
  {
   "cell_type": "code",
   "execution_count": 19,
   "metadata": {},
   "outputs": [],
   "source": [
    "#master_dataset = pd.read_csv('master_dataset.csv', on_bad_lines=\"skip\")\n",
    "#master_dataset = pd.concat([master_dataset, ela11_dataset], ignore_index=True) \n",
    "#master_dataset.to_csv('master_dataset.csv', mode=\"a\")"
   ]
  },
  {
   "cell_type": "markdown",
   "metadata": {},
   "source": [
    "Merge ela12:"
   ]
  },
  {
   "cell_type": "code",
   "execution_count": 20,
   "metadata": {},
   "outputs": [],
   "source": [
    "#master_dataset = pd.read_csv('master_dataset.csv', on_bad_lines=\"skip\")\n",
    "#master_dataset = pd.concat([master_dataset, ela12_dataset], ignore_index=True) \n",
    "#master_dataset.to_csv('master_dataset.csv', mode=\"a\")"
   ]
  },
  {
   "cell_type": "markdown",
   "metadata": {},
   "source": [
    "This is it for ELA questions!  I will now go back and add Math questions for 3rd-12th."
   ]
  },
  {
   "cell_type": "code",
   "execution_count": 21,
   "metadata": {},
   "outputs": [],
   "source": [
    "def master_merge(dataset):\n",
    "    master_dataset = pd.read_csv('master_dataset.csv', on_bad_lines=\"skip\")\n",
    "    master_dataset = pd.concat([master_dataset, dataset], ignore_index=True) \n",
    "    master_dataset.to_csv('master_dataset.csv', mode=\"a\")"
   ]
  },
  {
   "cell_type": "markdown",
   "metadata": {},
   "source": [
    "Math 3"
   ]
  },
  {
   "cell_type": "code",
   "execution_count": 22,
   "metadata": {},
   "outputs": [],
   "source": [
    "#master_merge(math3_dataset)"
   ]
  },
  {
   "cell_type": "markdown",
   "metadata": {},
   "source": [
    "Math 4"
   ]
  },
  {
   "cell_type": "code",
   "execution_count": 23,
   "metadata": {},
   "outputs": [],
   "source": [
    "#master_merge(math4_dataset)"
   ]
  },
  {
   "cell_type": "markdown",
   "metadata": {},
   "source": [
    "Math 5"
   ]
  },
  {
   "cell_type": "code",
   "execution_count": 24,
   "metadata": {},
   "outputs": [],
   "source": [
    "#master_merge(math5_dataset)"
   ]
  },
  {
   "cell_type": "markdown",
   "metadata": {},
   "source": [
    "Math 6"
   ]
  },
  {
   "cell_type": "code",
   "execution_count": 25,
   "metadata": {},
   "outputs": [],
   "source": [
    "#master_merge(math6_dataset)"
   ]
  },
  {
   "cell_type": "markdown",
   "metadata": {},
   "source": [
    "Math 7"
   ]
  },
  {
   "cell_type": "code",
   "execution_count": 26,
   "metadata": {},
   "outputs": [],
   "source": [
    "#master_merge(math7_dataset)"
   ]
  },
  {
   "cell_type": "markdown",
   "metadata": {},
   "source": [
    "Math 8"
   ]
  },
  {
   "cell_type": "code",
   "execution_count": 27,
   "metadata": {},
   "outputs": [],
   "source": [
    "#master_merge(math8_dataset)"
   ]
  },
  {
   "cell_type": "markdown",
   "metadata": {},
   "source": [
    "Math 9"
   ]
  },
  {
   "cell_type": "code",
   "execution_count": 29,
   "metadata": {},
   "outputs": [],
   "source": [
    "master_merge(math9_dataset)"
   ]
  },
  {
   "cell_type": "code",
   "execution_count": 30,
   "metadata": {},
   "outputs": [],
   "source": [
    "master_merge(math10_dataset)"
   ]
  },
  {
   "cell_type": "code",
   "execution_count": 31,
   "metadata": {},
   "outputs": [],
   "source": [
    "master_merge(math11_dataset)"
   ]
  }
 ],
 "metadata": {
  "kernelspec": {
   "display_name": ".venv",
   "language": "python",
   "name": "python3"
  },
  "language_info": {
   "codemirror_mode": {
    "name": "ipython",
    "version": 3
   },
   "file_extension": ".py",
   "mimetype": "text/x-python",
   "name": "python",
   "nbconvert_exporter": "python",
   "pygments_lexer": "ipython3",
   "version": "3.11.9"
  }
 },
 "nbformat": 4,
 "nbformat_minor": 2
}
