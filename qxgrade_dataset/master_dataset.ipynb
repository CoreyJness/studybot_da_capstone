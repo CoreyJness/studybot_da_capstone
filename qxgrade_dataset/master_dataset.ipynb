{
 "cells": [
  {
   "cell_type": "markdown",
   "metadata": {},
   "source": [
    "Using the custom functions from pdfconverter.py, I will scrape the data from all of the pdfs into one single file. Then, I will drop everything other than the Grade and question."
   ]
  },
  {
   "cell_type": "code",
   "execution_count": null,
   "metadata": {},
   "outputs": [],
   "source": [
    "%run -i pdfconverter.py\n",
    "import os\n",
    "import pandas as pd\n",
    "\n",
    "math_files = \"Math\"  #Link to the folder where these books are stored\n",
    "sci_files = \"Science\"\n",
    "ela_folder = \"ELA_BOOKS\"\n",
    "\n",
    "\n",
    "ela_questions = pdf_txt_retrieval(ela_folder)  ##This function can be found in pdfconverter.py\n",
    "math_questions = pdf_txt_retrieval(math_files)\n",
    "sci_questions = pd.read_csv(\"mscience_dataset.csv\")\n",
    "sci_questions = sci_questions[['Grade', 'question']]  ##This drops everything except these two columns.  "
   ]
  },
  {
   "cell_type": "code",
   "execution_count": null,
   "metadata": {},
   "outputs": [],
   "source": [
    "sci_questions"
   ]
  },
  {
   "cell_type": "code",
   "execution_count": null,
   "metadata": {},
   "outputs": [],
   "source": [
    "math_questions['Grade'] = math_questions['Grade'].str.replace(r'[^0-9]+', '', regex=True)"
   ]
  },
  {
   "cell_type": "code",
   "execution_count": null,
   "metadata": {},
   "outputs": [],
   "source": [
    "math_questions"
   ]
  },
  {
   "cell_type": "code",
   "execution_count": null,
   "metadata": {},
   "outputs": [],
   "source": [
    "ela_questions['Grade'] = ela_questions['Grade'].str.replace(r'[^0-9]+', '', regex=True)"
   ]
  },
  {
   "cell_type": "code",
   "execution_count": null,
   "metadata": {},
   "outputs": [],
   "source": [
    "ela_questions"
   ]
  },
  {
   "cell_type": "markdown",
   "metadata": {},
   "source": [
    "Now lets concatate these three datasets together"
   ]
  },
  {
   "cell_type": "code",
   "execution_count": null,
   "metadata": {},
   "outputs": [],
   "source": [
    "subjects = [ela_questions, math_questions, sci_questions]\n",
    "qxgrade = pd.concat(subjects)"
   ]
  },
  {
   "cell_type": "markdown",
   "metadata": {},
   "source": [
    "Save the dataset to csv"
   ]
  },
  {
   "cell_type": "code",
   "execution_count": null,
   "metadata": {},
   "outputs": [],
   "source": [
    "qxgrade.to_csv('QxGrade_Dataset.csv')"
   ]
  }
 ],
 "metadata": {
  "kernelspec": {
   "display_name": ".venv",
   "language": "python",
   "name": "python3"
  },
  "language_info": {
   "codemirror_mode": {
    "name": "ipython",
    "version": 3
   },
   "file_extension": ".py",
   "mimetype": "text/x-python",
   "name": "python",
   "nbconvert_exporter": "python",
   "pygments_lexer": "ipython3",
   "version": "3.11.9"
  }
 },
 "nbformat": 4,
 "nbformat_minor": 2
}
