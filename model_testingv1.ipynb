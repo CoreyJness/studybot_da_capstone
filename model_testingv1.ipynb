{
 "cells": [
  {
   "cell_type": "markdown",
   "metadata": {},
   "source": [
    "Now begin testing the model.  Here are the functions we will be using:"
   ]
  },
  {
   "cell_type": "code",
   "execution_count": 1,
   "metadata": {},
   "outputs": [],
   "source": [
    "##outputs the accuracy of the model\n",
    "def accuracy(predictions, labels):\n",
    "    preds = torch.argmax(predictions, dim=1)  \n",
    "    return (preds == labels).float().mean().item()\n",
    "\n",
    "\n",
    "\n",
    "#Testing Loop        \n",
    "def test(bert, device, training_data, criterion, optimizer, epoch):\n",
    "    # Set the model to evaluation mode\n",
    "    bert.eval()\n",
    "\n",
    "\n",
    "    for epoch in range(epochs):\n",
    "        epoch_loss = 0.0  # To accumulate loss for this epoch\n",
    "        testing_acc = 0.0  # Accumulate accuracy\n",
    "        testing_loss = 0.0\n",
    "    # Loop over the batches of data\n",
    "    #loop over the batches of data:\n",
    "        for i, batch in enumerate(testloader):\n",
    "            input_ids = batch[0].to(device)\n",
    "            attention_mask = batch[1].to(device)\n",
    "            labels = batch[2].to(device)\n",
    "            inputs = {\n",
    "                'input_ids': input_ids,\n",
    "                'attention_mask': attention_mask\n",
    "            }\n",
    "        \n",
    "        \n",
    "            # Zero the parameter gradients\n",
    "            optimizer.zero_grad()\n",
    "            \n",
    "            \n",
    "            #forward pass\n",
    "            outputs = Bert_Classifier(**inputs)\n",
    "            logits = outputs.pooler_output\n",
    "        \n",
    "            \n",
    "            \n",
    "            #calculate the loss\n",
    "            loss = criterion(logits, labels) # Calculate the loss\n",
    "            \n",
    "            \n",
    "            #Backward pass and optimize\n",
    "            loss.backward() #compute the gradients\n",
    "            optimizer.step() # Update the parameters\n",
    "            \n",
    "            \n",
    "            # Accumulate loss for this batch\n",
    "            epoch_loss += loss.item()\n",
    "            \n",
    "            #Print the statistics\n",
    "            testing_loss += loss.item()\n",
    "            testing_acc+= accuracy(logits, labels)\n",
    "            if (i + 1) % 200 == 0: # print every two hundred batches\n",
    "                print(f'Epoch {epoch}, Batch {i+1}, Loss: {testing_loss / 200:.4f}, Accuracy: {testing_acc / 200:.4f}')"
   ]
  },
  {
   "cell_type": "markdown",
   "metadata": {},
   "source": [
    "Load the model and modules for testing."
   ]
  },
  {
   "cell_type": "code",
   "execution_count": 2,
   "metadata": {},
   "outputs": [],
   "source": [
    "import pandas as pd\n",
    "import torch\n",
    "from torch.utils.data import Dataset\n",
    "from torch.utils.data import DataLoader\n",
    "from torch.utils.data import TensorDataset\n",
    "from torch.utils.data import random_split \n",
    "import torch.nn as nn\n",
    "import torch.optim as optim\n",
    "from transformers.models.bert.modeling_bert import BertModel\n",
    "\n",
    "\n",
    "m_qa_inputs = torch.load(\"m_qa_inputs.pt\", weights_only=False)\n",
    "h_qa_inputs = torch.load(\"h_qa_inputs.pt\", weights_only=False)\n",
    "m_qa_tensors = m_qa_inputs['input_ids']\n",
    "h_qa_tensors = h_qa_inputs['input_ids']\n",
    "\n",
    "m_labels = torch.zeros(len(m_qa_tensors), dtype=torch.long)  # Middle school = 0\n",
    "h_labels = torch.ones(len(h_qa_tensors), dtype=torch.long)   # High school = 1\n",
    "labels = torch.cat([m_labels, h_labels], dim=0)\n",
    "\n",
    "max_seq_len = max(m_qa_tensors.shape[1], h_qa_tensors.shape[1])\n",
    "m_qa_tensors = torch.nn.functional.pad(m_qa_tensors, (0, max_seq_len - m_qa_tensors.shape[1]))\n",
    "h_qa_tensors = torch.nn.functional.pad(h_qa_tensors, (0, max_seq_len - h_qa_tensors.shape[1]))\n",
    "training_data = torch.cat([m_qa_tensors, h_qa_tensors], dim=0)\n",
    "\n",
    "torch.load('Bert_Classifier.pt', weights_only=True)\n",
    "\n",
    "Bert_Classifier = BertModel.from_pretrained(\"bert-base-uncased\")\n",
    "Bert_Classifier.load_state_dict(torch.load(\"Bert_Classifier.pt\"), strict=False)\n",
    "Bert_Classifier.eval()\n",
    "dataset = TensorDataset(training_data, (training_data != 0).long(), labels) \n",
    "testloader = DataLoader(dataset, batch_size=32, shuffle=True )"
   ]
  },
  {
   "cell_type": "markdown",
   "metadata": {},
   "source": [
    "Initiate the hyperparameters for the testing loop:"
   ]
  },
  {
   "cell_type": "code",
   "execution_count": 3,
   "metadata": {},
   "outputs": [],
   "source": [
    "total_size = training_data.shape[0]\n",
    "train_size = int(.6 * total_size)\n",
    "val_size = int(.3 * total_size)\n",
    "test_size = total_size - train_size - val_size\n",
    "\n",
    "train_data, val_data, test_data = random_split(training_data, [train_size, val_size, test_size])\n",
    "\n",
    "epochs = 5\n",
    "criterion = nn.CrossEntropyLoss()\n",
    "optimizer = optim.Adam(Bert_Classifier.parameters(), lr=1e-5, betas=(0.9, 0.999), weight_decay=1e-5)\n",
    "device = torch.device('cuda' if torch.cuda.is_available() else 'cpu')\n",
    "\n",
    "sequence_length = 200\n",
    "batch_size = 64\n",
    "input_dim = 500\n",
    "d_model = 512\n"
   ]
  },
  {
   "cell_type": "markdown",
   "metadata": {},
   "source": [
    "Move the model to the gpu"
   ]
  },
  {
   "cell_type": "code",
   "execution_count": 4,
   "metadata": {},
   "outputs": [
    {
     "data": {
      "text/plain": [
       "BertModel(\n",
       "  (embeddings): BertEmbeddings(\n",
       "    (word_embeddings): Embedding(30522, 768, padding_idx=0)\n",
       "    (position_embeddings): Embedding(512, 768)\n",
       "    (token_type_embeddings): Embedding(2, 768)\n",
       "    (LayerNorm): LayerNorm((768,), eps=1e-12, elementwise_affine=True)\n",
       "    (dropout): Dropout(p=0.1, inplace=False)\n",
       "  )\n",
       "  (encoder): BertEncoder(\n",
       "    (layer): ModuleList(\n",
       "      (0-11): 12 x BertLayer(\n",
       "        (attention): BertAttention(\n",
       "          (self): BertSdpaSelfAttention(\n",
       "            (query): Linear(in_features=768, out_features=768, bias=True)\n",
       "            (key): Linear(in_features=768, out_features=768, bias=True)\n",
       "            (value): Linear(in_features=768, out_features=768, bias=True)\n",
       "            (dropout): Dropout(p=0.1, inplace=False)\n",
       "          )\n",
       "          (output): BertSelfOutput(\n",
       "            (dense): Linear(in_features=768, out_features=768, bias=True)\n",
       "            (LayerNorm): LayerNorm((768,), eps=1e-12, elementwise_affine=True)\n",
       "            (dropout): Dropout(p=0.1, inplace=False)\n",
       "          )\n",
       "        )\n",
       "        (intermediate): BertIntermediate(\n",
       "          (dense): Linear(in_features=768, out_features=3072, bias=True)\n",
       "          (intermediate_act_fn): GELUActivation()\n",
       "        )\n",
       "        (output): BertOutput(\n",
       "          (dense): Linear(in_features=3072, out_features=768, bias=True)\n",
       "          (LayerNorm): LayerNorm((768,), eps=1e-12, elementwise_affine=True)\n",
       "          (dropout): Dropout(p=0.1, inplace=False)\n",
       "        )\n",
       "      )\n",
       "    )\n",
       "  )\n",
       "  (pooler): BertPooler(\n",
       "    (dense): Linear(in_features=768, out_features=768, bias=True)\n",
       "    (activation): Tanh()\n",
       "  )\n",
       ")"
      ]
     },
     "execution_count": 4,
     "metadata": {},
     "output_type": "execute_result"
    }
   ],
   "source": [
    "Bert_Classifier.to(device)"
   ]
  },
  {
   "cell_type": "markdown",
   "metadata": {},
   "source": [
    "Run the testing loop"
   ]
  },
  {
   "cell_type": "code",
   "execution_count": 5,
   "metadata": {},
   "outputs": [
    {
     "name": "stdout",
     "output_type": "stream",
     "text": [
      "Epoch 0, Batch 200, Loss: 5.4650, Accuracy: 0.3620\n",
      "Epoch 1, Batch 200, Loss: 4.7701, Accuracy: 0.6309\n",
      "Epoch 2, Batch 200, Loss: 4.7020, Accuracy: 0.6402\n",
      "Epoch 3, Batch 200, Loss: 4.6825, Accuracy: 0.6377\n",
      "Epoch 4, Batch 200, Loss: 4.6741, Accuracy: 0.6403\n"
     ]
    }
   ],
   "source": [
    "test(Bert_Classifier, device, testloader, criterion, optimizer, epochs)"
   ]
  }
 ],
 "metadata": {
  "kernelspec": {
   "display_name": ".venv",
   "language": "python",
   "name": "python3"
  },
  "language_info": {
   "codemirror_mode": {
    "name": "ipython",
    "version": 3
   },
   "file_extension": ".py",
   "mimetype": "text/x-python",
   "name": "python",
   "nbconvert_exporter": "python",
   "pygments_lexer": "ipython3",
   "version": "3.11.9"
  }
 },
 "nbformat": 4,
 "nbformat_minor": 2
}
