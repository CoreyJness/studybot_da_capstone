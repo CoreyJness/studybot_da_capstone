{
 "cells": [
  {
   "cell_type": "markdown",
   "metadata": {},
   "source": [
    "# \n",
    "# Now that we have the model trained, lets employ it. \n",
    "\n",
    "# %%\n",
    "%run -i bertmod.py\n",
    "import torch\n",
    "from transformers import AutoModel, AutoTokenizer\n",
    "tokenizer = AutoTokenizer.from_pretrained('bert-base-uncased')\n",
    "\n",
    "\n",
    "\n",
    "# Tokenize and preprocess the input\n",
    "encoded_input = tokenizer(question, return_tensors=\"pt\", padding=True, truncation=True)\n",
    "encoded_input = encoded_input.to(device)  # Move to the correct device\n",
    "\n",
    "# Make prediction\n",
    "with torch.no_grad():\n",
    "    logits = model(encoded_input[\"input_ids\"], encoded_input[\"attention_mask\"]) \n",
    "\n",
    "# Get predicted class\n",
    "_, predicted_class = torch.max(logits, 1) \n",
    "print(f\"Predicted Grade Level: {predicted_class.item()}\")"
   ]
  },
  {
   "cell_type": "code",
   "execution_count": null,
   "metadata": {
    "vscode": {
     "languageId": "plaintext"
    }
   },
   "outputs": [],
   "source": [
    "import torch\n",
    "from transformers import AutoModel, AutoTokenizer\n",
    "tokenizer = AutoTokenizer.from_pretrained('bert-base-uncased')\n",
    "device = torch.device('cuda' if torch.cuda.is_available() else 'cpu')  \n",
    "model = BertClassifier(DualBertModel(BertConfig()))"
   ]
  },
  {
   "cell_type": "code",
   "execution_count": null,
   "metadata": {
    "vscode": {
     "languageId": "plaintext"
    }
   },
   "outputs": [],
   "source": [
    "state_dict = torch.load(\"Bert_Classifier.pt\", map_location=torch.device(\"cpu\"))\n",
    "model.load_state_dict(state_dict, strict=False)\n",
    "\n",
    "model.to(device)\n",
    "model.eval()\n",
    "question = \"Who is the main character in Oedipus\""
   ]
  },
  {
   "cell_type": "code",
   "execution_count": null,
   "metadata": {
    "vscode": {
     "languageId": "plaintext"
    }
   },
   "outputs": [],
   "source": [
    "# Tokenize and preprocess the input\n",
    "encoded_input = tokenizer(question, return_tensors=\"pt\", padding=True, truncation=True)\n",
    "encoded_input = encoded_input.to(device)  # Move to the correct device\n",
    "\n",
    "# Make prediction\n",
    "with torch.no_grad():\n",
    "    logits = model(encoded_input[\"input_ids\"], encoded_input[\"attention_mask\"]) \n",
    "    # Get predicted class\n",
    "_, predicted_class = torch.max(logits, 1) \n",
    "print(f\"Predicted Grade Level: {predicted_class.item()}\")"
   ]
  }
 ],
 "metadata": {
  "language_info": {
   "name": "python"
  }
 },
 "nbformat": 4,
 "nbformat_minor": 2
}
