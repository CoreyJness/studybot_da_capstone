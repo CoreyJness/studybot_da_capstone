{
 "cells": [
  {
   "cell_type": "markdown",
   "metadata": {},
   "source": [
    "Now that we have the model trained, lets employ it."
   ]
  },
  {
   "cell_type": "code",
   "execution_count": 1,
   "metadata": {},
   "outputs": [],
   "source": [
    "import torch\n",
    "from transformers import AutoModel, AutoTokenizer\n",
    "from bertmod import BertClassifier, DualBertModel, BertConfig\n",
    "tokenizer = AutoTokenizer.from_pretrained('bert-base-uncased')\n",
    "device = torch.device('cuda' if torch.cuda.is_available() else 'cpu')  \n",
    "model = BertClassifier(DualBertModel(BertConfig()))\n",
    "\n",
    "\n",
    "state_dict = torch.load(\"Bert_Classifier.pt\", map_location=torch.device(\"cpu\"))\n",
    "model.load_state_dict(state_dict, strict=False)\n",
    "\n",
    "model.to(device)\n",
    "model.eval()\n",
    "question = \"How many bones are in the human body?\""
   ]
  },
  {
   "cell_type": "code",
   "execution_count": 2,
   "metadata": {},
   "outputs": [
    {
     "name": "stdout",
     "output_type": "stream",
     "text": [
      "Predicted Grade Level: 10th Grade\n"
     ]
    }
   ],
   "source": [
    "# Tokenize and preprocess the input\n",
    "encoded_input = tokenizer(question, return_tensors=\"pt\", padding=True, truncation=True)\n",
    "encoded_input = encoded_input.to(device)  # Move to the correct device\n",
    "\n",
    "# Make prediction\n",
    "with torch.no_grad():\n",
    "    logits = model(encoded_input[\"input_ids\"], encoded_input[\"attention_mask\"]) \n",
    "\n",
    "\n",
    "index_to_grade = {\n",
    "    0: \"3rd Grade\",\n",
    "    1: \"4th Grade\",\n",
    "    2: \"5th Grade\",\n",
    "    3: \"6th Grade\",\n",
    "    4: \"7th Grade\",\n",
    "    5: \"8th Grade\",\n",
    "    6: \"9th Grade\",\n",
    "    7: \"10th Grade\",\n",
    "    8: \"11th Grade\",\n",
    "    9: \"12th Grade\"\n",
    "}\n",
    "\n",
    "\n",
    "# Get predicted class\n",
    "_, predicted_class = torch.max(logits, 1) \n",
    "print(f\"Predicted Grade Level: {index_to_grade[predicted_class.item()]}\")"
   ]
  }
 ],
 "metadata": {
  "kernelspec": {
   "display_name": ".venv",
   "language": "python",
   "name": "python3"
  },
  "language_info": {
   "codemirror_mode": {
    "name": "ipython",
    "version": 3
   },
   "file_extension": ".py",
   "mimetype": "text/x-python",
   "name": "python",
   "nbconvert_exporter": "python",
   "pygments_lexer": "ipython3",
   "version": "3.11.9"
  }
 },
 "nbformat": 4,
 "nbformat_minor": 2
}
