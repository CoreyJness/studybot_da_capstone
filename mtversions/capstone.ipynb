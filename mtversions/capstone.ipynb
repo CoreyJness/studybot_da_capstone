{
 "cells": [
  {
   "cell_type": "markdown",
   "metadata": {},
   "source": [
    "Here are the functions used during data preprocessing, training, and testing:"
   ]
  },
  {
   "cell_type": "code",
   "execution_count": 1,
   "metadata": {},
   "outputs": [],
   "source": [
    "##Use the tokenizer to encode the text\n",
    "def encode(data_component):\n",
    "    encoded_data = tokenizer(data_component, return_tensors='pt', padding=\"max_length\", truncation=True, max_length=512)  #Force max length here to make sure tensors fit\n",
    "    return encoded_data[\"input_ids\"], encoded_data[\"attention_mask\"]\n",
    "\n",
    "\n",
    "##outputs the accuracy of the model\n",
    "def accuracy(predictions, labels):\n",
    "    preds = torch.argmax(torch.softmax(predictions, dim=1), dim=1)  # Get class with highest probability\n",
    "    return (preds == labels).float().mean().item()\n",
    "\n",
    "\n",
    "\n",
    "##Training loop\n",
    "def train(bert_classifier, device, trainloader, valloader, criterion, optimizer, epochs, PATH):\n",
    "    running_acc = []  # Store accuracy values for logging\n",
    "    running_train_loss = []  # Store training loss for visualization\n",
    "    running_val_loss = []  # Store validation loss\n",
    "\n",
    "    for epoch in range(epochs):\n",
    "        epoch_loss = 0.0  \n",
    "        training_acc = 0.0  \n",
    "        training_loss = 0.0\n",
    "        \n",
    "        bert_classifier.train()  # Set model to training mode\n",
    "\n",
    "        # Training loop\n",
    "        for i, batch in enumerate(trainloader):\n",
    "            input_ids = batch[0].to(device)\n",
    "            attention_mask = batch[1].to(device)\n",
    "            labels = batch[2].to(device).long()  \n",
    "            \n",
    "            optimizer.zero_grad()  # Zero the gradients\n",
    "            \n",
    "            # Forward pass\n",
    "            logits = bert_classifier(input_ids=input_ids, attention_mask=attention_mask)\n",
    "            \n",
    "            # Compute loss\n",
    "            loss = criterion(logits, labels)\n",
    "            \n",
    "            # Backward pass\n",
    "            loss.backward()\n",
    "            optimizer.step()  # Update weights\n",
    "            \n",
    "            # Accumulate loss and accuracy\n",
    "            epoch_loss += loss.item()\n",
    "            training_loss += loss.item()\n",
    "            training_acc += accuracy(logits, labels)  # Assume `accuracy` function is defined\n",
    "\n",
    "            # Print loss and accuracy every 5 batches\n",
    "            if (i + 1) % 5 == 0: \n",
    "                avg_acc = training_acc / 5\n",
    "                avg_loss = training_loss / 5\n",
    "\n",
    "                print(f'Epoch {epoch}, Batch {i+1}, Loss: {avg_loss:.4f}, Accuracy: {avg_acc:.4f}')\n",
    "                \n",
    "                running_acc.append(avg_acc)\n",
    "\n",
    "                # Reset batch accumulators\n",
    "                training_loss = 0.0\n",
    "                training_acc = 0.0\n",
    "\n",
    "        # Store training loss for visualization\n",
    "        avg_train_loss = epoch_loss / len(trainloader)\n",
    "        running_train_loss.append(avg_train_loss)\n",
    "\n",
    "        # Save checkpoint every epoch\n",
    "        torch.save({\n",
    "            'epoch': epoch,\n",
    "            'model_state_dict': bert_classifier.state_dict(),\n",
    "            'optimizer_state_dict': optimizer.state_dict(),\n",
    "            'loss': loss,\n",
    "        }, PATH)\n",
    "        \n",
    "        # Validation loop\n",
    "        running_vloss = 0.0\n",
    "        bert_classifier.eval()  # Set model to evaluation mode\n",
    "\n",
    "        with torch.no_grad():\n",
    "            val_acc = 0.0\n",
    "            val_steps = 0\n",
    "            \n",
    "            for vbatch in valloader:\n",
    "                vinputs = vbatch[0].to(device)\n",
    "                vattention_mask = vbatch[1].to(device)\n",
    "                vlabels = vbatch[2].to(device).long()\n",
    "\n",
    "                vlogits = bert_classifier(input_ids=vinputs, attention_mask=vattention_mask)\n",
    "                vloss = criterion(vlogits, vlabels)\n",
    "                \n",
    "                running_vloss += vloss.item()\n",
    "                val_acc += accuracy(vlogits, vlabels)  \n",
    "                val_steps += 1\n",
    "\n",
    "            avg_vloss = running_vloss / val_steps\n",
    "            avg_vacc = val_acc / val_steps\n",
    "            running_val_loss.append(avg_vloss)\n",
    "\n",
    "            print(f'Epoch {epoch}, Training Loss: {avg_train_loss:.4f}, '\n",
    "                  f'Validation Loss: {avg_vloss:.4f}, Validation Accuracy: {avg_vacc:.4f}')\n",
    "\n",
    "    # **Create DataFrames for Plotting**\n",
    "    df_loss = pd.DataFrame({\n",
    "        'Epoch': range(1, epochs + 1),\n",
    "        'Training Loss': running_train_loss,\n",
    "        'Validation Loss': running_val_loss\n",
    "    })\n",
    "\n",
    "    df_acc = pd.DataFrame({'Batch': range(len(running_acc)), 'Accuracy': running_acc})\n",
    "\n",
    "    df_loss.plot(x='Epoch', y=['Training Loss', 'Validation Loss'], kind='line', marker='o', title='Training vs Validation Loss', grid=True)\n",
    "    df_acc.plot(x='Batch', y='Accuracy', kind='line', title='Training Accuracy Over Batches', grid=True)\n",
    "\n",
    "\n",
    "#Testing Loop        \n",
    "def test(bert_classifier, device, testloader, criterion, epochs):\n",
    "    bert_classifier.eval()  # Set model to evaluation mode\n",
    "\n",
    "    running_test_loss = []  # Store test loss per epoch\n",
    "    running_test_acc = []  # Store test accuracy per batch\n",
    "\n",
    "    with torch.no_grad():\n",
    "        for epoch in range(epochs):\n",
    "            epoch_loss = 0.0  \n",
    "            testing_acc = 0.0  \n",
    "            testing_loss = 0.0  \n",
    "            batch_count = 0  \n",
    "\n",
    "            for i, batch in enumerate(testloader):\n",
    "                input_ids = batch[0].to(device)\n",
    "                attention_mask = batch[1].to(device)\n",
    "                labels = batch[2].to(device).long()\n",
    "\n",
    "                # Forward pass\n",
    "                logits = bert_classifier(input_ids=input_ids, attention_mask=attention_mask)\n",
    "\n",
    "                # Compute loss\n",
    "                loss = criterion(logits, labels)\n",
    "\n",
    "                # Accumulate loss and accuracy\n",
    "                epoch_loss += loss.item()\n",
    "                testing_loss += loss.item()\n",
    "                testing_acc += accuracy(logits, labels)\n",
    "                batch_count += 1\n",
    "\n",
    "                # Print loss and accuracy every 200 batches\n",
    "                if (i + 1) % 200 == 0:\n",
    "                    avg_acc = testing_acc / 200\n",
    "                    avg_loss = testing_loss / 200\n",
    "                    print(f'Epoch {epoch}, Batch {i+1}, Loss: {avg_loss:.4f}, Accuracy: {avg_acc:.4f}')\n",
    "                    \n",
    "                    running_test_acc.append(avg_acc)\n",
    "\n",
    "                    # Reset batch accumulators\n",
    "                    testing_loss = 0.0\n",
    "                    testing_acc = 0.0\n",
    "\n",
    "            # Store test loss per epoch\n",
    "            avg_test_loss = epoch_loss / batch_count\n",
    "            running_test_loss.append(avg_test_loss)\n",
    "\n",
    "            print(f'Epoch {epoch}, Test Loss: {avg_test_loss:.4f}')\n",
    "\n",
    "    # **Create DataFrames for Plotting**\n",
    "    df_loss = pd.DataFrame({'Epoch': range(1, epochs + 1), 'Test Loss': running_test_loss})\n",
    "    df_acc = pd.DataFrame({'Batch': range(len(running_test_acc)), 'Test Accuracy': running_test_acc})\n",
    "\n",
    "    # **Plot the test results**\n",
    "    df_loss.plot(x='Epoch', y='Test Loss', kind='line', marker='o', title='Test Loss Over Epochs', grid=True)\n",
    "    df_acc.plot(x='Batch', y='Test Accuracy', kind='line', title='Test Accuracy Over Batches', grid=True)"
   ]
  },
  {
   "cell_type": "markdown",
   "metadata": {},
   "source": [
    "Import all the necessary libraries:"
   ]
  },
  {
   "cell_type": "code",
   "execution_count": 2,
   "metadata": {},
   "outputs": [],
   "source": [
    "import pandas as pd\n",
    "import torch\n",
    "import os\n",
    "import torch.nn as nn\n",
    "import torch.nn.functional as F\n",
    "from transformers import AutoModel, AutoTokenizer\n",
    "import torch.optim as optim\n",
    "from torch.utils.data import Dataset, DataLoader, TensorDataset, random_split \n",
    "from torch.utils.data.dataloader import default_collate\n",
    "from transformers.models.bert.modeling_bert import BertIntermediate, BertOutput, BertEncoder, BertSelfAttention, BertSelfOutput, BertModel, BertConfig"
   ]
  },
  {
   "cell_type": "markdown",
   "metadata": {},
   "source": [
    "Import the question sets that will be used to train the model.  The first dataset used was the RACE dataseet, which consists of multiple choice questions separated between M (middle school) and H (high school).  The second dataset is QxGrade_dataset which is a set of 75k questions scraped from pdf textbooks.  These textbooks were chosen based on alignment with Common Core State Standards to identify a framework that we can use when training the model with additional data. "
   ]
  },
  {
   "cell_type": "code",
   "execution_count": 3,
   "metadata": {},
   "outputs": [],
   "source": [
    "df = pd.read_csv('QxGrade_Dataset.csv')"
   ]
  },
  {
   "cell_type": "markdown",
   "metadata": {},
   "source": [
    "Because I already ran through the whole process, I now know the model is training to specific levels too higly.  Now, I'm going to normalize the dataset to fix this.  To start we are going to see how many questions there are for each grade."
   ]
  },
  {
   "cell_type": "code",
   "execution_count": 4,
   "metadata": {},
   "outputs": [
    {
     "name": "stdout",
     "output_type": "stream",
     "text": [
      "Grade Distribution:\n",
      " Grade\n",
      "3      418\n",
      "4     1191\n",
      "5     1658\n",
      "6      549\n",
      "7     1153\n",
      "8     1805\n",
      "9     8668\n",
      "10    2704\n",
      "11    7288\n",
      "12    1125\n",
      "Name: count, dtype: int64\n"
     ]
    }
   ],
   "source": [
    "grade_counts = df['Grade'].value_counts().sort_index()\n",
    "print(\"Grade Distribution:\\n\", grade_counts)"
   ]
  },
  {
   "cell_type": "markdown",
   "metadata": {},
   "source": [
    "Now I'm going to find the median size of the question sets"
   ]
  },
  {
   "cell_type": "code",
   "execution_count": 5,
   "metadata": {},
   "outputs": [
    {
     "name": "stdout",
     "output_type": "stream",
     "text": [
      "1424\n"
     ]
    }
   ],
   "source": [
    "median_size = int(grade_counts.median())\n",
    "print(median_size)"
   ]
  },
  {
   "cell_type": "markdown",
   "metadata": {},
   "source": [
    "This number is still much too high.  I am going to use the minimum value (418) and select 418 questions randomly from the other grades."
   ]
  },
  {
   "cell_type": "code",
   "execution_count": null,
   "metadata": {},
   "outputs": [],
   "source": [
    "target_size = 418\n",
    "balanced_data = []\n",
    "\n",
    "for grade, group in df.groupby(\"Grade\"):\n",
    "    if len(group) >= target_size:\n",
    "        sampled_group = group.sample(n=target_size, random_state=42)\n",
    "    else:\n",
    "        sampled_group = group\n",
    "    balanced_data.append(sampled_group)\n",
    "\n",
    "df_balanced = pd.concat(balanced_data).reset_index(drop=True)\n"
   ]
  },
  {
   "cell_type": "code",
   "execution_count": 9,
   "metadata": {},
   "outputs": [
    {
     "name": "stdout",
     "output_type": "stream",
     "text": [
      "Grade\n",
      "3     418\n",
      "4     418\n",
      "5     418\n",
      "6     418\n",
      "7     418\n",
      "8     418\n",
      "9     418\n",
      "10    418\n",
      "11    418\n",
      "12    418\n",
      "Name: count, dtype: int64\n"
     ]
    }
   ],
   "source": [
    "print(df_balanced[\"Grade\"].value_counts())"
   ]
  },
  {
   "cell_type": "code",
   "execution_count": 10,
   "metadata": {},
   "outputs": [
    {
     "data": {
      "text/plain": [
       "Index(['Unnamed: 0', 'question', 'Grade'], dtype='object')"
      ]
     },
     "execution_count": 10,
     "metadata": {},
     "output_type": "execute_result"
    }
   ],
   "source": [
    "df.columns"
   ]
  },
  {
   "cell_type": "code",
   "execution_count": 11,
   "metadata": {},
   "outputs": [
    {
     "data": {
      "text/html": [
       "<div>\n",
       "<style scoped>\n",
       "    .dataframe tbody tr th:only-of-type {\n",
       "        vertical-align: middle;\n",
       "    }\n",
       "\n",
       "    .dataframe tbody tr th {\n",
       "        vertical-align: top;\n",
       "    }\n",
       "\n",
       "    .dataframe thead th {\n",
       "        text-align: right;\n",
       "    }\n",
       "</style>\n",
       "<table border=\"1\" class=\"dataframe\">\n",
       "  <thead>\n",
       "    <tr style=\"text-align: right;\">\n",
       "      <th></th>\n",
       "      <th>Unnamed: 0</th>\n",
       "      <th>question</th>\n",
       "      <th>Grade</th>\n",
       "    </tr>\n",
       "  </thead>\n",
       "  <tbody>\n",
       "    <tr>\n",
       "      <th>0</th>\n",
       "      <td>0</td>\n",
       "      <td>How could Doug reach it?</td>\n",
       "      <td>10</td>\n",
       "    </tr>\n",
       "    <tr>\n",
       "      <th>1</th>\n",
       "      <td>1</td>\n",
       "      <td>co 4  He asked me to do him a favor If he fail...</td>\n",
       "      <td>10</td>\n",
       "    </tr>\n",
       "    <tr>\n",
       "      <th>2</th>\n",
       "      <td>2</td>\n",
       "      <td>Would Doug  drop through the same space?</td>\n",
       "      <td>10</td>\n",
       "    </tr>\n",
       "    <tr>\n",
       "      <th>3</th>\n",
       "      <td>3</td>\n",
       "      <td>Would I follow?</td>\n",
       "      <td>10</td>\n",
       "    </tr>\n",
       "    <tr>\n",
       "      <th>4</th>\n",
       "      <td>4</td>\n",
       "      <td>When you fall 600 feet do you die before  you ...</td>\n",
       "      <td>10</td>\n",
       "    </tr>\n",
       "    <tr>\n",
       "      <th>...</th>\n",
       "      <td>...</td>\n",
       "      <td>...</td>\n",
       "      <td>...</td>\n",
       "    </tr>\n",
       "    <tr>\n",
       "      <th>26554</th>\n",
       "      <td>2702</td>\n",
       "      <td>How many elements are in the compound Mg(OH)2?...</td>\n",
       "      <td>8</td>\n",
       "    </tr>\n",
       "    <tr>\n",
       "      <th>26555</th>\n",
       "      <td>2703</td>\n",
       "      <td>Which of these resources will most likely be d...</td>\n",
       "      <td>8</td>\n",
       "    </tr>\n",
       "    <tr>\n",
       "      <th>26556</th>\n",
       "      <td>2704</td>\n",
       "      <td>When people exercise, they often feel thirsty ...</td>\n",
       "      <td>8</td>\n",
       "    </tr>\n",
       "    <tr>\n",
       "      <th>26557</th>\n",
       "      <td>2705</td>\n",
       "      <td>According to the periodic table, all of the fo...</td>\n",
       "      <td>8</td>\n",
       "    </tr>\n",
       "    <tr>\n",
       "      <th>26558</th>\n",
       "      <td>2706</td>\n",
       "      <td>The petals of flowers often are brightly color...</td>\n",
       "      <td>8</td>\n",
       "    </tr>\n",
       "  </tbody>\n",
       "</table>\n",
       "<p>26559 rows × 3 columns</p>\n",
       "</div>"
      ],
      "text/plain": [
       "       Unnamed: 0                                           question  Grade\n",
       "0               0                           How could Doug reach it?     10\n",
       "1               1  co 4  He asked me to do him a favor If he fail...     10\n",
       "2               2           Would Doug  drop through the same space?     10\n",
       "3               3                                    Would I follow?     10\n",
       "4               4  When you fall 600 feet do you die before  you ...     10\n",
       "...           ...                                                ...    ...\n",
       "26554        2702  How many elements are in the compound Mg(OH)2?...      8\n",
       "26555        2703  Which of these resources will most likely be d...      8\n",
       "26556        2704  When people exercise, they often feel thirsty ...      8\n",
       "26557        2705  According to the periodic table, all of the fo...      8\n",
       "26558        2706  The petals of flowers often are brightly color...      8\n",
       "\n",
       "[26559 rows x 3 columns]"
      ]
     },
     "execution_count": 11,
     "metadata": {},
     "output_type": "execute_result"
    }
   ],
   "source": [
    "df"
   ]
  },
  {
   "cell_type": "markdown",
   "metadata": {},
   "source": [
    "The two most important columns we will be using and labeling are Grade and Question.  Using the .values and .tolist function here we are adding all of the grade options (3-12) to the grades function.  We are doing the same with all of the question values."
   ]
  },
  {
   "cell_type": "code",
   "execution_count": 12,
   "metadata": {},
   "outputs": [],
   "source": [
    "questions = df.question.values.tolist()\n",
    "grades = df.Grade.astype(str).tolist()"
   ]
  },
  {
   "cell_type": "markdown",
   "metadata": {},
   "source": [
    "Tokenize the data using the encode function"
   ]
  },
  {
   "cell_type": "code",
   "execution_count": 13,
   "metadata": {},
   "outputs": [],
   "source": [
    "tokenizer = AutoTokenizer.from_pretrained('bert-base-uncased')"
   ]
  },
  {
   "cell_type": "code",
   "execution_count": 14,
   "metadata": {},
   "outputs": [],
   "source": [
    "q_tensors, attention_mask_q = encode(questions)"
   ]
  },
  {
   "cell_type": "code",
   "execution_count": 15,
   "metadata": {},
   "outputs": [],
   "source": [
    "g_tensors, attention_mask_g = encode(grades)"
   ]
  },
  {
   "cell_type": "markdown",
   "metadata": {},
   "source": [
    "Now set the grade values to 0"
   ]
  },
  {
   "cell_type": "code",
   "execution_count": 16,
   "metadata": {},
   "outputs": [],
   "source": [
    "glabels = torch.zeros(len(g_tensors), dtype=torch.float32)"
   ]
  },
  {
   "cell_type": "markdown",
   "metadata": {},
   "source": [
    "Set the question values to 1"
   ]
  },
  {
   "cell_type": "code",
   "execution_count": 17,
   "metadata": {},
   "outputs": [],
   "source": [
    "qlabels = torch.ones(len(q_tensors), dtype=torch.float32)"
   ]
  },
  {
   "cell_type": "markdown",
   "metadata": {},
   "source": [
    "Concatenate the two"
   ]
  },
  {
   "cell_type": "code",
   "execution_count": 18,
   "metadata": {},
   "outputs": [],
   "source": [
    "training_data = torch.cat([g_tensors, q_tensors], dim=1)"
   ]
  },
  {
   "cell_type": "markdown",
   "metadata": {},
   "source": [
    "Change BERT configuration to implement Dual Multihead Attention Mechanism.  This is also where we are implementing our customized neural network. "
   ]
  },
  {
   "cell_type": "code",
   "execution_count": 19,
   "metadata": {},
   "outputs": [],
   "source": [
    "##This implements a copy of the original attention mechnism to run simultaneously, then at the end, the outputs are joined together\n",
    "class DualBertAttention(nn.Module):\n",
    "    \n",
    "    \n",
    "    def __init__(self, config):\n",
    "        super().__init__()\n",
    "        \n",
    "        self.attention1 = BertSelfAttention(config)\n",
    "        self.attention2 = BertSelfAttention(config)\n",
    "        \n",
    "        self.output1 = BertSelfOutput(config)\n",
    "        self.output2 = BertSelfOutput(config)\n",
    "        \n",
    "        \n",
    "    def forward(self, hidden_states, attention_mask=None, head_mask=None):\n",
    "        attn_output1 = self.attention1(hidden_states, attention_mask, head_mask)[0]  # Unpacking tuple\n",
    "        attn_output1 = self.output1(attn_output1, hidden_states)\n",
    "\n",
    "        attn_output2 = self.attention2(hidden_states, attention_mask, head_mask)[0]  # Unpacking tuple\n",
    "        attn_output2 = self.output2(attn_output2, hidden_states)\n",
    "\n",
    "        dual_attention_output = F.relu(attn_output1 + attn_output2)\n",
    "        return dual_attention_output\n",
    "    \n",
    "##Implements the dual attention in the Neural Network\n",
    "class DualBertLayer(nn.Module):\n",
    "    def __init__(self, config):\n",
    "        super().__init__()\n",
    "        self.attention = DualBertAttention(config)\n",
    "        self.intermediate = BertIntermediate(config)\n",
    "        self.output = BertOutput(config)\n",
    "\n",
    "\n",
    "##Moves the data through the Neural Network\n",
    "    def forward(\n",
    "        self,\n",
    "        hidden_states,\n",
    "        attention_mask=None,\n",
    "        head_mask=None,\n",
    "        encoder_hidden_states=None,\n",
    "        encoder_attention_mask=None,\n",
    "        past_key_value=None,\n",
    "        output_attentions=False,\n",
    "    ):\n",
    "        attention_output = self.attention(hidden_states, attention_mask, head_mask)\n",
    "        intermediate_output = self.intermediate(attention_output)\n",
    "        layer_output = self.output(intermediate_output, attention_output)\n",
    "        return (layer_output,)\n",
    "\n",
    "\n",
    "##Implments the outcome from the DualBertLayer to encode the data from the DualBertLayer Class\n",
    "class DualBertEncoder(BertEncoder):\n",
    "    def __init__(self, config):\n",
    "        super().__init__(config)\n",
    "        self.layer = nn.ModuleList([DualBertLayer(config) for _ in range(config.num_hidden_layers)])\n",
    "\n",
    "\n",
    "##Implements the model with the DualBertEncoder\n",
    "class DualBertModel(BertModel):\n",
    "    def __init__(self, config):\n",
    "        super().__init__(config)\n",
    "        self.encoder = DualBertEncoder(config)\n",
    "\n",
    "\n",
    "##Initialize a classifier between the 10 different options (3rd grade to 12th grade).\n",
    "\n",
    "class BertClassifier(nn.Module):\n",
    "    def __init__(self, bert, hidden_dim=768, num_classes=10): \n",
    "        super(BertClassifier, self).__init__()\n",
    "        self.bert = bert\n",
    "        self.fc = nn.Linear(768, num_classes)\n",
    "\n",
    "    def forward(self, input_ids, attention_mask):\n",
    "        outputs = self.bert(input_ids=input_ids, attention_mask=attention_mask)\n",
    "        pooled_output = outputs[1]  # CLS token representation\n",
    "        return self.fc(pooled_output)"
   ]
  },
  {
   "cell_type": "markdown",
   "metadata": {},
   "source": [
    "Using the network we create, instantiate our version of bert"
   ]
  },
  {
   "cell_type": "code",
   "execution_count": 20,
   "metadata": {},
   "outputs": [],
   "source": [
    "config = BertConfig()  \n",
    "bert = DualBertModel(config) \n"
   ]
  },
  {
   "cell_type": "markdown",
   "metadata": {},
   "source": [
    "Set up the training hyperparameters"
   ]
  },
  {
   "cell_type": "code",
   "execution_count": 21,
   "metadata": {},
   "outputs": [],
   "source": [
    "epochs = 2000  ##How many times we go through the loop\n",
    "criterion = nn.CrossEntropyLoss()  ##This compares the predicted answer with the correct answer\n",
    "optimizer = optim.Adam(bert.parameters(), lr=1e-5, betas=(0.9, 0.999), weight_decay=1e-5)  ##The Optim.Adam optimizer calculates gradient descent\n",
    "device = torch.device('cuda' if torch.cuda.is_available() else 'cpu')  ##Set the device to GPU so we can train the model on the GPU\n",
    "\n",
    "sequence_length = 156   ## Maximum length of tokens to be used at a time\n",
    "batch_size = 8  ##The number of training examples in one forward/backward pass\n",
    "input_dim = 500  ##The total number of dimension we will allow the model to use for calculation\n",
    "d_model = 512  ##Number of expected features, set to default recommended by pytorch\n",
    "running_acc = []  ##This is to agregate the training data\n",
    "save_every = 1 ##Saves the model after each epoch\n",
    "PATH = 'bert_checkpoint.pt'"
   ]
  },
  {
   "cell_type": "markdown",
   "metadata": {},
   "source": [
    "Wrap the data in a Dataloader:"
   ]
  },
  {
   "cell_type": "code",
   "execution_count": 22,
   "metadata": {},
   "outputs": [
    {
     "ename": "NameError",
     "evalue": "name 'custom_collate' is not defined",
     "output_type": "error",
     "traceback": [
      "\u001b[1;31m---------------------------------------------------------------------------\u001b[0m",
      "\u001b[1;31mNameError\u001b[0m                                 Traceback (most recent call last)",
      "Cell \u001b[1;32mIn[22], line 15\u001b[0m\n\u001b[0;32m     10\u001b[0m test_size \u001b[38;5;241m=\u001b[39m \u001b[38;5;28mlen\u001b[39m(dataset) \u001b[38;5;241m-\u001b[39m train_size \u001b[38;5;241m-\u001b[39m val_size  \u001b[38;5;66;03m# Remaining 15% test\u001b[39;00m\n\u001b[0;32m     12\u001b[0m train_data, val_data, test_data \u001b[38;5;241m=\u001b[39m random_split(dataset, [train_size, val_size, test_size])\n\u001b[1;32m---> 15\u001b[0m trainloader \u001b[38;5;241m=\u001b[39m DataLoader(dataset, batch_size\u001b[38;5;241m=\u001b[39m\u001b[38;5;241m32\u001b[39m, shuffle\u001b[38;5;241m=\u001b[39m\u001b[38;5;28;01mTrue\u001b[39;00m, collate_fn\u001b[38;5;241m=\u001b[39m\u001b[43mcustom_collate\u001b[49m)\n\u001b[0;32m     17\u001b[0m valloader \u001b[38;5;241m=\u001b[39m DataLoader(val_data, batch_size\u001b[38;5;241m=\u001b[39m\u001b[38;5;241m32\u001b[39m, shuffle\u001b[38;5;241m=\u001b[39m\u001b[38;5;28;01mFalse\u001b[39;00m, collate_fn\u001b[38;5;241m=\u001b[39mcustom_collate)  \n\u001b[0;32m     19\u001b[0m testloader \u001b[38;5;241m=\u001b[39m DataLoader(dataset, batch_size\u001b[38;5;241m=\u001b[39m\u001b[38;5;241m32\u001b[39m, shuffle\u001b[38;5;241m=\u001b[39m\u001b[38;5;28;01mTrue\u001b[39;00m, collate_fn\u001b[38;5;241m=\u001b[39mcustom_collate )\n",
      "\u001b[1;31mNameError\u001b[0m: name 'custom_collate' is not defined"
     ]
    }
   ],
   "source": [
    "\n",
    "q_dataset = TensorDataset(q_tensors, attention_mask_q, qlabels.long())  # Convert qlabels to long\n",
    "g_dataset = TensorDataset(g_tensors, attention_mask_g, glabels.long())  # Convert glabels to l\n",
    "\n",
    "dataset = torch.utils.data.ConcatDataset([q_dataset, g_dataset])\n",
    "\n",
    "\n",
    "#split datasets with random split\n",
    "train_size = int(0.7 * len(dataset))  # 70% training\n",
    "val_size = int(0.15 * len(dataset))   # 15% validation\n",
    "test_size = len(dataset) - train_size - val_size  # Remaining 15% test\n",
    "\n",
    "train_data, val_data, test_data = random_split(dataset, [train_size, val_size, test_size])\n",
    "\n",
    "\n",
    "trainloader = DataLoader(dataset, batch_size=32, shuffle=True, collate_fn=custom_collate)\n",
    "\n",
    "valloader = DataLoader(val_data, batch_size=32, shuffle=False, collate_fn=custom_collate)  \n",
    "\n",
    "testloader = DataLoader(dataset, batch_size=32, shuffle=True, collate_fn=custom_collate )"
   ]
  },
  {
   "cell_type": "markdown",
   "metadata": {},
   "source": [
    "Move the model to the GPU"
   ]
  },
  {
   "cell_type": "code",
   "execution_count": null,
   "metadata": {},
   "outputs": [],
   "source": [
    "bert.to(device)"
   ]
  },
  {
   "cell_type": "markdown",
   "metadata": {},
   "source": [
    "Move an instance of the bert classifier to the device as well"
   ]
  },
  {
   "cell_type": "code",
   "execution_count": null,
   "metadata": {},
   "outputs": [],
   "source": [
    "bert_classifier = BertClassifier(bert).to(device)\n"
   ]
  },
  {
   "cell_type": "markdown",
   "metadata": {},
   "source": [
    "Use Bert to classify the data -- Running this training function requires approximately 37-38 gb of VRam"
   ]
  },
  {
   "cell_type": "code",
   "execution_count": null,
   "metadata": {},
   "outputs": [],
   "source": [
    "train(bert_classifier, device, trainloader, valloader, criterion, optimizer, epochs, PATH)\n"
   ]
  },
  {
   "cell_type": "markdown",
   "metadata": {},
   "source": [
    "Save the model once trained "
   ]
  },
  {
   "cell_type": "code",
   "execution_count": null,
   "metadata": {},
   "outputs": [],
   "source": [
    "torch.save(bert_classifier.state_dict(), 'Bert_Classifier.pt')"
   ]
  },
  {
   "cell_type": "code",
   "execution_count": null,
   "metadata": {},
   "outputs": [],
   "source": [
    "model = BertClassifier(bert)\n",
    "\n",
    "#Load Saved State Dictionary\n",
    "state_dict = torch.load(\"Bert_Classifier.pt\", map_location=torch.device(\"cpu\"))\n",
    "model.load_state_dict(state_dict)\n",
    "model.to(device)\n",
    "\n",
    "test(model, device, testloader, criterion, epochs)"
   ]
  },
  {
   "attachments": {
    "image.png": {
     "image/png": "[encoded data removed]"
    }
   },
   "cell_type": "markdown",
   "metadata": {},
   "source": [
    "![image.png](attachment:image.png)"
   ]
  },
  {
   "attachments": {
    "image.png": {
     "image/png": "[encoded data removed]"
    }
   },
   "cell_type": "markdown",
   "metadata": {},
   "source": [
    "![image.png](attachment:image.png)"
   ]
  },
  {
   "cell_type": "code",
   "execution_count": null,
   "metadata": {},
   "outputs": [],
   "source": []
  }
 ],
 "metadata": {
  "kernelspec": {
   "display_name": ".venv",
   "language": "python",
   "name": "python3"
  },
  "language_info": {
   "codemirror_mode": {
    "name": "ipython",
    "version": 3
   },
   "file_extension": ".py",
   "mimetype": "text/x-python",
   "name": "python",
   "nbconvert_exporter": "python",
   "pygments_lexer": "ipython3",
   "version": "3.11.9"
  }
 },
 "nbformat": 4,
 "nbformat_minor": 2
}
