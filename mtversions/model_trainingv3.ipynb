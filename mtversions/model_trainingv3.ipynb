{
 "cells": [
  {
   "cell_type": "markdown",
   "metadata": {},
   "source": [
    "Here are the functions we will be using for the training:"
   ]
  },
  {
   "cell_type": "code",
   "execution_count": 16,
   "metadata": {},
   "outputs": [],
   "source": [
    "##Create a loop to add the txt files into a data frame\n",
    "def txt_retrieval(folder_path):\n",
    "    qa = []\n",
    "    txt_files = [f for f in os.listdir(folder_path) if f.endswith(\".txt\")]\n",
    "    for file in txt_files:\n",
    "        file_path = os.path.join(folder_path, file) \n",
    "        df = pd.read_json(file_path) \n",
    "        df[\"source_file\"] = file  \n",
    "        qa.append(df)\n",
    "    return pd.concat(qa, ignore_index=True) if qa else pd.DataFrame()\n",
    "\n",
    "\n",
    "#Combine questions and answers to pass to the model\n",
    "def qa_pairs(questions, options):\n",
    "    pairs = []\n",
    "    for q, opts in zip(questions, options):\n",
    "        for opt in opts:\n",
    "            pairs.append((q,opt))\n",
    "    return pairs\n",
    "\n",
    "\n",
    "##Use the tokenizer to encode the text\n",
    "def encode(data_component):\n",
    "        encoded_data = tokenizer(data_component, return_tensors='pt', padding=True)\n",
    "        return encoded_data\n",
    "\n",
    "\n",
    "##outputs the accuracy of the model\n",
    "def accuracy(predictions, labels):\n",
    "    preds = torch.argmax(predictions, dim=1)  # Get class with highest probability\n",
    "    return (preds == labels).float().mean().item()\n",
    "\n",
    "\n",
    "\n",
    "##Training Loop\n",
    "def train(bert, device, training_data, criterion, optimizer, epoch):\n",
    "    #Set Model to training mode\n",
    "    bert_classifier.train()\n",
    "    \n",
    "    \n",
    "    for epoch in range(epochs):\n",
    "        epoch_loss = 0.0  # To accumulate loss for this epoch\n",
    "        training_acc = 0.0  # Accumulate accuracy\n",
    "        training_loss = 0.0\n",
    "    \n",
    "    #loop over the batches of data:\n",
    "        for i, batch in enumerate(trainloader):\n",
    "            input_ids = batch[0].to(device)\n",
    "            attention_mask = batch[1].to(device)\n",
    "            labels = batch[2].to(device)\n",
    "            inputs = {\n",
    "                'input_ids': input_ids,\n",
    "                'attention_mask': attention_mask\n",
    "            }\n",
    "        \n",
    "        \n",
    "            # Zero the parameter gradients\n",
    "            optimizer.zero_grad()\n",
    "            \n",
    "            \n",
    "            #forward pass\n",
    "            outputs = bert(inputs) #get the output lgits from the model\n",
    "            logits = bert_classifier(inputs)\n",
    "            \n",
    "            \n",
    "            #calculate the loss\n",
    "            loss = criterion(logits, labels) # Calculate the loss\n",
    "            \n",
    "            \n",
    "            #Backward pass and optimize\n",
    "            loss.backward() #compute the gradients\n",
    "            optimizer.step() # Update the parameters\n",
    "            \n",
    "            \n",
    "            # Accumulate loss for this batch\n",
    "            epoch_loss += loss.item()\n",
    "            \n",
    "            #Print the statistics\n",
    "            training_loss += loss.item()\n",
    "            training_acc+= accuracy(outputs, labels)# accumulate the accuracy and loss\n",
    "            if (i + 1) % 200 == 0: # print every two hundred batches\n",
    "                print(f'Epoch {epoch}, Batch {i+1}, Loss: {training_loss / 200:.4f}, Accuracy: {training_acc / 200:.4f}')\n",
    "\n",
    "                training_loss = 0.0\n",
    "                training_acc = 0.0\n",
    "\n",
    "\n",
    "#Testing Loop        \n",
    "def test(model, device, testloader, criterion, epoch):\n",
    "    # Set the model to evaluation mode\n",
    "    bert_classifier.eval()\n",
    "    TestAccuracy = []\n",
    "    correct_predictions = ()\n",
    "    \n",
    "    \n",
    "    for epoch in range(epochs):\n",
    "        epoch_loss = 0.0  # To accumulate loss for this epoch\n",
    "        testing_acc = 0.0  # Accumulate accuracy\n",
    "        testing_loss = 0.0\n",
    "        \n",
    "        \n",
    "\n",
    "    #loop over the batches of data:\n",
    "        with torch.no_grad():\n",
    "            for i, batch in enumerate(testloader):\n",
    "                input_ids = batch[0].to(device)\n",
    "                attention_mask = batch[1].to(device)\n",
    "                labels = batch[2].to(device)\n",
    "                inputs = {\n",
    "                    'input_ids': input_ids,\n",
    "                    'attention_mask': attention_mask\n",
    "                }\n",
    "                \n",
    "                \n",
    "                #forward pass\n",
    "                outputs = model(inputs)\n",
    "                logits = model(inputs)\n",
    "            \n",
    "                \n",
    "                #calculate the loss\n",
    "                loss = criterion(logits, labels) # Calculate the loss\n",
    "               \n",
    "                \n",
    "                # Accumulate loss for this batch\n",
    "                epoch_loss += loss.item()\n",
    "                testing_loss += loss.item()\n",
    "                testing_acc+= accuracy(outputs, labels)\n",
    "\n",
    "                                \n",
    "                if (i + 1) % 200 == 0: # print every two hundred batches\n",
    "                    print(f'Epoch {epoch}, Batch {i+1}, Loss: {testing_loss / 200:.4f}, Accuracy: {testing_acc / 200:.4f}')\n",
    "                \n",
    "            \n",
    "            \n",
    "            \n",
    "            \n",
    "            \n"
   ]
  },
  {
   "cell_type": "markdown",
   "metadata": {},
   "source": [
    "Import all the necessary modules:"
   ]
  },
  {
   "cell_type": "code",
   "execution_count": 17,
   "metadata": {},
   "outputs": [],
   "source": [
    "import pandas as pd\n",
    "import torch\n",
    "import os\n",
    "import torch.nn as nn\n",
    "import torch.nn.functional as F\n",
    "from transformers import AutoModel, AutoTokenizer\n",
    "from torch.utils.data import random_split \n",
    "import torch.optim as optim\n",
    "from torch.utils.data import Dataset\n",
    "from torch.utils.data import DataLoader\n",
    "from torch.utils.data import TensorDataset\n",
    "from transformers.models.bert.modeling_bert import BertIntermediate, BertOutput\n",
    "from transformers.models.bert.modeling_bert import BertEncoder\n",
    "from transformers.models.bert.modeling_bert import BertModel, BertConfig\n",
    "import matplotlib.pyplot as plt\n",
    "\n",
    "\n",
    "bert = AutoModel.from_pretrained(\"bert-base-uncased\")\n",
    "tokenizer = AutoTokenizer.from_pretrained('bert-base-uncased')"
   ]
  },
  {
   "cell_type": "markdown",
   "metadata": {},
   "source": [
    "Import the question sets that will be used to train the model.  The first dataset is the RACE dataseet, which consists of multiple choice questions separated between M (middle school) and H (high school)"
   ]
  },
  {
   "cell_type": "code",
   "execution_count": 18,
   "metadata": {},
   "outputs": [],
   "source": [
    "middle = \"middle\"\n",
    "high = \"high\\high\"\n",
    "\n",
    "\n",
    "# Assign separate outputs based on the variable names\n",
    "m_qa = txt_retrieval(middle)\n",
    "h_qa = txt_retrieval(high)"
   ]
  },
  {
   "cell_type": "markdown",
   "metadata": {},
   "source": [
    "Let's take a look at the column names to see how the data is structured and to make sure the data has correctly imported."
   ]
  },
  {
   "cell_type": "code",
   "execution_count": 19,
   "metadata": {},
   "outputs": [
    {
     "data": {
      "text/plain": [
       "Index(['answers', 'options', 'questions', 'article', 'id', 'source_file'], dtype='object')"
      ]
     },
     "execution_count": 19,
     "metadata": {},
     "output_type": "execute_result"
    }
   ],
   "source": [
    "h_qa.columns\n",
    "m_qa.columns"
   ]
  },
  {
   "cell_type": "markdown",
   "metadata": {},
   "source": [
    "Focus on the question/answers, isolate them from the other columns."
   ]
  },
  {
   "cell_type": "code",
   "execution_count": 20,
   "metadata": {},
   "outputs": [],
   "source": [
    "m_questions = m_qa.questions.values.tolist()\n",
    "h_questions = h_qa.questions.values.tolist()\n",
    "m_options = m_qa.options.values.tolist()\n",
    "h_options = h_qa.options.values.tolist()\n",
    "m_answers = m_qa.answers.values.tolist()\n",
    "h_answers = h_qa.answers.values.tolist()"
   ]
  },
  {
   "cell_type": "markdown",
   "metadata": {},
   "source": [
    "Using the tokenizer specialized for Bert, encode the questions/answers"
   ]
  },
  {
   "cell_type": "code",
   "execution_count": 21,
   "metadata": {},
   "outputs": [],
   "source": [
    "m_qa_pairs = qa_pairs(m_questions, m_options)\n",
    "m_qa_inputs = encode(m_qa_pairs)\n",
    "torch.save(m_qa_inputs, \"m_qa_inputs.pt\")\n",
    "\n",
    "\n",
    "h_qa_pairs = qa_pairs(h_questions, h_options)\n",
    "h_qa_inputs = encode(h_qa_pairs)\n",
    "torch.save(h_qa_inputs, \"h_qa_inputs.pt\")\n"
   ]
  },
  {
   "cell_type": "markdown",
   "metadata": {},
   "source": [
    "Load in and label data and split the data into testing, training, and validation data."
   ]
  },
  {
   "cell_type": "code",
   "execution_count": 22,
   "metadata": {},
   "outputs": [],
   "source": [
    "m_qa_inputs = torch.load(\"m_qa_inputs.pt\", weights_only=False)\n",
    "h_qa_inputs = torch.load(\"h_qa_inputs.pt\", weights_only=False)\n",
    "m_qa_tensors = m_qa_inputs['input_ids']\n",
    "h_qa_tensors = h_qa_inputs['input_ids']\n",
    "\n",
    "m_labels = torch.zeros(len(m_qa_tensors), dtype=torch.long)  # Middle school = 0\n",
    "h_labels = torch.ones(len(h_qa_tensors), dtype=torch.long)   # High school = 1\n",
    "labels = torch.cat([m_labels, h_labels], dim=0)\n",
    "\n",
    "max_seq_len = max(m_qa_tensors.shape[1], h_qa_tensors.shape[1])\n",
    "m_qa_tensors = torch.nn.functional.pad(m_qa_tensors, (0, max_seq_len - m_qa_tensors.shape[1]))\n",
    "h_qa_tensors = torch.nn.functional.pad(h_qa_tensors, (0, max_seq_len - h_qa_tensors.shape[1]))\n",
    "training_data = torch.cat([m_qa_tensors, h_qa_tensors], dim=0)\n",
    "\n",
    "total_size = training_data.shape[0]\n",
    "train_size = int(.6 * total_size)\n",
    "val_size = int(.3 * total_size)\n",
    "test_size = total_size - train_size - val_size\n",
    "\n",
    "train_data, val_data, test_data = random_split(training_data, [train_size, val_size, test_size])\n",
    "\n",
    "epochs = 5\n",
    "criterion = nn.CrossEntropyLoss()\n",
    "optimizer = optim.Adam(bert.parameters(), lr=1e-5, betas=(0.9, 0.999), weight_decay=1e-5)\n",
    "device = torch.device('cuda' if torch.cuda.is_available() else 'cpu')\n",
    "\n",
    "sequence_length = 200\n",
    "batch_size = 64\n",
    "input_dim = 500\n",
    "d_model = 512\n"
   ]
  },
  {
   "cell_type": "markdown",
   "metadata": {},
   "source": [
    "Change BERT configuration to implement Dual Multihead Attention Mechanism.  This is where we are implementing the neural network. "
   ]
  },
  {
   "cell_type": "code",
   "execution_count": 23,
   "metadata": {},
   "outputs": [],
   "source": [
    "class DualBertAttention(nn.Module):\n",
    "    def __init__(self, config):\n",
    "        super().__init__()\n",
    "        \n",
    "        self.attention1 = BertSelfAttention(config)\n",
    "        self.attention2 = BertSelfAttention(config)\n",
    "        \n",
    "        self.output1 = BertSelfOutput(config)\n",
    "        self.output2 = BertSelfOutput(config)\n",
    "        \n",
    "    def forward(self, hidden_states, attention_mask=None, head_mask=None):\n",
    "        attn_output1, _ = self.attention1(hidden_states, attention_mask, head_mask)\n",
    "        attn_output1 = self.output1(attn_output1, hidden_states)\n",
    "        \n",
    "        attn_output2, _ = self.attention2(hidden_states, attention_mask, head_mask)\n",
    "        attn_output2 = self.output2(attn_output2, hidden_states)\n",
    "        dual_attention_output = F.relu(attn_output1 + attn_output2)\n",
    "        return dual_attention_output\n",
    "    \n",
    "\n",
    "class DualBertLayer(nn.Module):\n",
    "    def __init__(self, config):\n",
    "        super().__init__()\n",
    "        self.attention = DualBertAttention(config)  # Use dual attention\n",
    "        self.intermediate = BertIntermediate(config)\n",
    "        self.output = BertOutput(config)\n",
    "\n",
    "    def forward(self, hidden_states, attention_mask=None, head_mask=None):\n",
    "        attention_output = self.attention(hidden_states, attention_mask, head_mask)\n",
    "        intermediate_output = self.intermediate(attention_output)\n",
    "        layer_output = self.output(intermediate_output, attention_output)\n",
    "        return layer_output\n",
    "\n",
    "\n",
    "class DualBertEncoder(BertEncoder):\n",
    "    def __init__(self, config):\n",
    "        super().__init__(config)\n",
    "        self.layer = nn.ModuleList([DualBertLayer(config) for _ in range(config.num_hidden_layers)])\n",
    "\n",
    "\n",
    "class DualBertModel(BertModel):\n",
    "    def __init__(self, config):\n",
    "        super().__init__(config)\n",
    "        self.encoder = DualBertEncoder(config)\n",
    "\n",
    "\n",
    "class BertClassifier(nn.Module):\n",
    "    def __init__(self, bert, hidden_dim=768, num_classes=2):  # Adjust num_classes as needed\n",
    "        super(BertClassifier, self).__init__()\n",
    "        self.bert = bert\n",
    "        self.classifier = nn.Linear(hidden_dim, num_classes)  # Maps hidden_dim to num_classes\n",
    "\n",
    "    def forward(self, inputs):\n",
    "        outputs = self.bert(**inputs)\n",
    "        pooled_output = outputs.pooler_output\n",
    "        logits = self.classifier(pooled_output)  # Pass pooled output to classifier\n",
    "        return logits  # Now shaped (batch_size, num_classes)\n",
    "        \n"
   ]
  },
  {
   "cell_type": "markdown",
   "metadata": {},
   "source": [
    "Wrap the data in a DataLoader:"
   ]
  },
  {
   "cell_type": "code",
   "execution_count": 24,
   "metadata": {},
   "outputs": [],
   "source": [
    "dataset = TensorDataset(training_data, (training_data != 0).long(), labels) \n",
    "\n",
    "trainloader = DataLoader(dataset, batch_size=32, shuffle=True)\n",
    "\n",
    "\n",
    "\n",
    "testloader = DataLoader(dataset, batch_size=32, shuffle=True )"
   ]
  },
  {
   "cell_type": "markdown",
   "metadata": {},
   "source": [
    "Move the model to the GPU"
   ]
  },
  {
   "cell_type": "code",
   "execution_count": 25,
   "metadata": {},
   "outputs": [
    {
     "data": {
      "text/plain": [
       "BertModel(\n",
       "  (embeddings): BertEmbeddings(\n",
       "    (word_embeddings): Embedding(30522, 768, padding_idx=0)\n",
       "    (position_embeddings): Embedding(512, 768)\n",
       "    (token_type_embeddings): Embedding(2, 768)\n",
       "    (LayerNorm): LayerNorm((768,), eps=1e-12, elementwise_affine=True)\n",
       "    (dropout): Dropout(p=0.1, inplace=False)\n",
       "  )\n",
       "  (encoder): BertEncoder(\n",
       "    (layer): ModuleList(\n",
       "      (0-11): 12 x BertLayer(\n",
       "        (attention): BertAttention(\n",
       "          (self): BertSdpaSelfAttention(\n",
       "            (query): Linear(in_features=768, out_features=768, bias=True)\n",
       "            (key): Linear(in_features=768, out_features=768, bias=True)\n",
       "            (value): Linear(in_features=768, out_features=768, bias=True)\n",
       "            (dropout): Dropout(p=0.1, inplace=False)\n",
       "          )\n",
       "          (output): BertSelfOutput(\n",
       "            (dense): Linear(in_features=768, out_features=768, bias=True)\n",
       "            (LayerNorm): LayerNorm((768,), eps=1e-12, elementwise_affine=True)\n",
       "            (dropout): Dropout(p=0.1, inplace=False)\n",
       "          )\n",
       "        )\n",
       "        (intermediate): BertIntermediate(\n",
       "          (dense): Linear(in_features=768, out_features=3072, bias=True)\n",
       "          (intermediate_act_fn): GELUActivation()\n",
       "        )\n",
       "        (output): BertOutput(\n",
       "          (dense): Linear(in_features=3072, out_features=768, bias=True)\n",
       "          (LayerNorm): LayerNorm((768,), eps=1e-12, elementwise_affine=True)\n",
       "          (dropout): Dropout(p=0.1, inplace=False)\n",
       "        )\n",
       "      )\n",
       "    )\n",
       "  )\n",
       "  (pooler): BertPooler(\n",
       "    (dense): Linear(in_features=768, out_features=768, bias=True)\n",
       "    (activation): Tanh()\n",
       "  )\n",
       ")"
      ]
     },
     "execution_count": 25,
     "metadata": {},
     "output_type": "execute_result"
    }
   ],
   "source": [
    "bert.to(device)"
   ]
  },
  {
   "cell_type": "code",
   "execution_count": 26,
   "metadata": {},
   "outputs": [],
   "source": [
    "bert_classifier = BertClassifier(bert).to(device)"
   ]
  },
  {
   "cell_type": "markdown",
   "metadata": {},
   "source": [
    "Use bert to classify the data"
   ]
  },
  {
   "cell_type": "code",
   "execution_count": 27,
   "metadata": {},
   "outputs": [],
   "source": [
    "#train(bert_classifier, device, trainloader, criterion, optimizer, epochs)"
   ]
  },
  {
   "cell_type": "markdown",
   "metadata": {},
   "source": [
    "Save the mdoel weights to avoid retraining: "
   ]
  },
  {
   "cell_type": "code",
   "execution_count": 28,
   "metadata": {},
   "outputs": [],
   "source": [
    "#torch.save(bert_classifier.state_dict(), 'Bert_Classifier.pt')"
   ]
  },
  {
   "cell_type": "markdown",
   "metadata": {},
   "source": [
    "Import the saved model"
   ]
  },
  {
   "cell_type": "code",
   "execution_count": 29,
   "metadata": {},
   "outputs": [
    {
     "data": {
      "text/plain": [
       "BertClassifier(\n",
       "  (bert): BertModel(\n",
       "    (embeddings): BertEmbeddings(\n",
       "      (word_embeddings): Embedding(30522, 768, padding_idx=0)\n",
       "      (position_embeddings): Embedding(512, 768)\n",
       "      (token_type_embeddings): Embedding(2, 768)\n",
       "      (LayerNorm): LayerNorm((768,), eps=1e-12, elementwise_affine=True)\n",
       "      (dropout): Dropout(p=0.1, inplace=False)\n",
       "    )\n",
       "    (encoder): BertEncoder(\n",
       "      (layer): ModuleList(\n",
       "        (0-11): 12 x BertLayer(\n",
       "          (attention): BertAttention(\n",
       "            (self): BertSdpaSelfAttention(\n",
       "              (query): Linear(in_features=768, out_features=768, bias=True)\n",
       "              (key): Linear(in_features=768, out_features=768, bias=True)\n",
       "              (value): Linear(in_features=768, out_features=768, bias=True)\n",
       "              (dropout): Dropout(p=0.1, inplace=False)\n",
       "            )\n",
       "            (output): BertSelfOutput(\n",
       "              (dense): Linear(in_features=768, out_features=768, bias=True)\n",
       "              (LayerNorm): LayerNorm((768,), eps=1e-12, elementwise_affine=True)\n",
       "              (dropout): Dropout(p=0.1, inplace=False)\n",
       "            )\n",
       "          )\n",
       "          (intermediate): BertIntermediate(\n",
       "            (dense): Linear(in_features=768, out_features=3072, bias=True)\n",
       "            (intermediate_act_fn): GELUActivation()\n",
       "          )\n",
       "          (output): BertOutput(\n",
       "            (dense): Linear(in_features=3072, out_features=768, bias=True)\n",
       "            (LayerNorm): LayerNorm((768,), eps=1e-12, elementwise_affine=True)\n",
       "            (dropout): Dropout(p=0.1, inplace=False)\n",
       "          )\n",
       "        )\n",
       "      )\n",
       "    )\n",
       "    (pooler): BertPooler(\n",
       "      (dense): Linear(in_features=768, out_features=768, bias=True)\n",
       "      (activation): Tanh()\n",
       "    )\n",
       "  )\n",
       "  (classifier): Linear(in_features=768, out_features=2, bias=True)\n",
       ")"
      ]
     },
     "execution_count": 29,
     "metadata": {},
     "output_type": "execute_result"
    }
   ],
   "source": [
    "model = BertClassifier(bert)\n",
    "\n",
    "#Load Saved State Dictionary\n",
    "state_dict = torch.load(\"Bert_Classifier.pt\", map_location=torch.device(\"cpu\"))\n",
    "model.load_state_dict(state_dict)\n",
    "model.to(device)\n",
    "# Set model to evaluation mode\n",
    "model.eval()"
   ]
  },
  {
   "cell_type": "markdown",
   "metadata": {},
   "source": [
    "Begin Testing:"
   ]
  },
  {
   "cell_type": "code",
   "execution_count": 30,
   "metadata": {},
   "outputs": [
    {
     "name": "stdout",
     "output_type": "stream",
     "text": [
      "Epoch 0, Batch 200, Loss: 0.0069, Accuracy: 0.9984\n",
      "Epoch 1, Batch 200, Loss: 0.0058, Accuracy: 0.9988\n",
      "Epoch 2, Batch 200, Loss: 0.0049, Accuracy: 0.9989\n",
      "Epoch 3, Batch 200, Loss: 0.0062, Accuracy: 0.9988\n",
      "Epoch 4, Batch 200, Loss: 0.0061, Accuracy: 0.9988\n"
     ]
    }
   ],
   "source": [
    "test(model, device, testloader, criterion, epochs)"
   ]
  }
 ],
 "metadata": {
  "kernelspec": {
   "display_name": ".venv",
   "language": "python",
   "name": "python3"
  },
  "language_info": {
   "codemirror_mode": {
    "name": "ipython",
    "version": 3
   },
   "file_extension": ".py",
   "mimetype": "text/x-python",
   "name": "python",
   "nbconvert_exporter": "python",
   "pygments_lexer": "ipython3",
   "version": "3.11.9"
  }
 },
 "nbformat": 4,
 "nbformat_minor": 2
}
